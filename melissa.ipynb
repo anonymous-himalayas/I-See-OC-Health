{
  "nbformat": 4,
  "nbformat_minor": 0,
  "metadata": {
    "colab": {
      "provenance": []
    },
    "kernelspec": {
      "name": "python3",
      "display_name": "Python 3"
    },
    "language_info": {
      "name": "python"
    }
  },
  "cells": [
    {
      "cell_type": "code",
      "execution_count": null,
      "metadata": {
        "id": "bekQnAf7afTb"
      },
      "outputs": [],
      "source": [
        "import pandas as pd\n",
        "import numpy as np\n",
        "import matplotlib.pyplot as plt\n",
        "import seaborn as sns\n",
        "pd.set_option('display.max_columns', None)\n",
        "\n"
      ]
    },
    {
      "cell_type": "code",
      "source": [
        "from google.colab import drive\n",
        "drive.mount('/content/drive')"
      ],
      "metadata": {
        "colab": {
          "base_uri": "https://localhost:8080/"
        },
        "id": "Yj0Q8CQEbCFa",
        "outputId": "b33e673d-2643-4a36-e61e-58a7c7396918"
      },
      "execution_count": null,
      "outputs": [
        {
          "output_type": "stream",
          "name": "stdout",
          "text": [
            "Drive already mounted at /content/drive; to attempt to forcibly remount, call drive.mount(\"/content/drive\", force_remount=True).\n"
          ]
        }
      ]
    },
    {
      "cell_type": "code",
      "source": [
        "consumer_df = pd.read_csv('/content/drive/MyDrive/Datathon/IrvineHacks_ConsumerData/ConsumerData.csv')\n",
        "property_df = pd.read_csv('/content/drive/MyDrive/Datathon/IrvineHacks_PropertyAssessmentData/PropertyAssessmentData.csv')\n",
        "zip_df = pd.read_csv('/content/drive/MyDrive/Datathon/IrvineHacks_ZipData/ZipData.csv')\n"
      ],
      "metadata": {
        "id": "F_7xzx-fbCZS"
      },
      "execution_count": null,
      "outputs": []
    },
    {
      "cell_type": "code",
      "source": [
        "consumer_df.info()"
      ],
      "metadata": {
        "colab": {
          "base_uri": "https://localhost:8080/"
        },
        "id": "e095540cbn7r",
        "outputId": "453ba2a6-0960-4d72-e0f7-b9230ce1a2e1"
      },
      "execution_count": null,
      "outputs": [
        {
          "output_type": "stream",
          "name": "stdout",
          "text": [
            "<class 'pandas.core.frame.DataFrame'>\n",
            "RangeIndex: 2089792 entries, 0 to 2089791\n",
            "Data columns (total 44 columns):\n",
            " #   Column                      Dtype  \n",
            "---  ------                      -----  \n",
            " 0   RecordID                    int64  \n",
            " 1   MAK                         int64  \n",
            " 2   BaseMak                     int64  \n",
            " 3   Address                     object \n",
            " 4   City                        object \n",
            " 5   State                       object \n",
            " 6   Zipcode                     int64  \n",
            " 7   Latitude                    float64\n",
            " 8   Longitude                   float64\n",
            " 9   OwnerRenter                 object \n",
            " 10  HomePurchaseDate            float64\n",
            " 11  Charitable                  object \n",
            " 12  Health                      object \n",
            " 13  Political                   object \n",
            " 14  Religious                   object \n",
            " 15  Veteran                     object \n",
            " 16  MaritalStatus               object \n",
            " 17  SingleParent                object \n",
            " 18  NumberOfChildren            float64\n",
            " 19  GrandChildren               object \n",
            " 20  HouseholdSize               float64\n",
            " 21  CatOwner                    object \n",
            " 22  DogOwner                    object \n",
            " 23  NetWorth                    float64\n",
            " 24  CreditCardUser              object \n",
            " 25  VehicleKnownOwnedNumber     float64\n",
            " 26  SelfImprovement             object \n",
            " 27  MusicCollector              object \n",
            " 28  MovieCollector              object \n",
            " 29  Photography                 object \n",
            " 30  AutoWork                    object \n",
            " 31  Fishing                     object \n",
            " 32  CampingHiking               object \n",
            " 33  HuntingShooting             object \n",
            " 34  Gardening                   object \n",
            " 35  EnvironmentalIssues         object \n",
            " 36  HomeImprovement             object \n",
            " 37  HomeImprovementDIY          object \n",
            " 38  OutdoorsGrouping            object \n",
            " 39  InvestmentsForeign          object \n",
            " 40  BeautyCosmetics             object \n",
            " 41  TVCable                     object \n",
            " 42  WirelessCellularPhoneOwner  object \n",
            " 43  EducationOnline             object \n",
            "dtypes: float64(7), int64(4), object(33)\n",
            "memory usage: 701.5+ MB\n"
          ]
        }
      ]
    },
    {
      "cell_type": "code",
      "source": [
        "property_df.info()"
      ],
      "metadata": {
        "colab": {
          "base_uri": "https://localhost:8080/"
        },
        "id": "uzTIq0Z0b0Ku",
        "outputId": "d9d392bd-541e-4c81-d006-a39080d0cc30"
      },
      "execution_count": null,
      "outputs": [
        {
          "output_type": "stream",
          "name": "stdout",
          "text": [
            "<class 'pandas.core.frame.DataFrame'>\n",
            "RangeIndex: 61053 entries, 0 to 61052\n",
            "Data columns (total 43 columns):\n",
            " #   Column                     Non-Null Count  Dtype  \n",
            "---  ------                     --------------  -----  \n",
            " 0   RecordId                   61053 non-null  int64  \n",
            " 1   MAK                        61053 non-null  int64  \n",
            " 2   PropertyAddress            61053 non-null  object \n",
            " 3   Suite                      2682 non-null   object \n",
            " 4   City                       61053 non-null  object \n",
            " 5   State                      61053 non-null  object \n",
            " 6   ZipCode                    61053 non-null  int64  \n",
            " 7   ZipCodePlus4               60933 non-null  float64\n",
            " 8   Latitude                   61053 non-null  float64\n",
            " 9   Longitude                  61053 non-null  float64\n",
            " 10  FIPSCode                   61053 non-null  int64  \n",
            " 11  APN                        61053 non-null  object \n",
            " 12  CensusKey                  61053 non-null  object \n",
            " 13  CensusKeyDecennial         61053 non-null  int64  \n",
            " 14  CountyLandUseDescription   61053 non-null  object \n",
            " 15  TotalAssessedValue         61053 non-null  int64  \n",
            " 16  AssessmentYear             61053 non-null  int64  \n",
            " 17  LotSizeOrArea              61053 non-null  float64\n",
            " 18  LotSizeAreaUnit            58170 non-null  object \n",
            " 19  SalesPriceFromAssessment   61053 non-null  int64  \n",
            " 20  YearBuilt                  61043 non-null  float64\n",
            " 21  TotalNumberOfRooms         61053 non-null  int64  \n",
            " 22  NumberOfBedrooms           61053 non-null  int64  \n",
            " 23  NumberOfBaths              61053 non-null  float64\n",
            " 24  NumberOfPartialBaths       61053 non-null  int64  \n",
            " 25  NumberOfStories            60369 non-null  float64\n",
            " 26  NumberOfBuildings          61053 non-null  int64  \n",
            " 27  NumberOfUnits              61053 non-null  int64  \n",
            " 28  GarageTypeParking          59194 non-null  float64\n",
            " 29  GarageParkingNumberOfCars  61053 non-null  int64  \n",
            " 30  HasDeck                    61053 non-null  object \n",
            " 31  DeckArea                   58487 non-null  float64\n",
            " 32  HasGuestHouse              61053 non-null  object \n",
            " 33  GuestHouseArea             58487 non-null  float64\n",
            " 34  PoolType                   15321 non-null  float64\n",
            " 35  PoolArea                   58487 non-null  float64\n",
            " 36  AirConditioning            12881 non-null  object \n",
            " 37  HasFireplace               61053 non-null  object \n",
            " 38  FireplaceCount             61053 non-null  int64  \n",
            " 39  HasBasement                0 non-null      float64\n",
            " 40  HasElevator                0 non-null      float64\n",
            " 41  HasSecurityAlarm           61053 non-null  object \n",
            " 42  HasSprinklers              61053 non-null  object \n",
            "dtypes: float64(14), int64(15), object(14)\n",
            "memory usage: 20.0+ MB\n"
          ]
        }
      ]
    },
    {
      "cell_type": "code",
      "source": [
        "zip_df.info()"
      ],
      "metadata": {
        "colab": {
          "base_uri": "https://localhost:8080/"
        },
        "id": "VPWpLobhb15A",
        "outputId": "675c16ab-ddd3-462e-ba55-14a1e951e400"
      },
      "execution_count": null,
      "outputs": [
        {
          "output_type": "stream",
          "name": "stdout",
          "text": [
            "<class 'pandas.core.frame.DataFrame'>\n",
            "RangeIndex: 144 entries, 0 to 143\n",
            "Data columns (total 34 columns):\n",
            " #   Column                                Non-Null Count  Dtype  \n",
            "---  ------                                --------------  -----  \n",
            " 0   RecordID                              144 non-null    int64  \n",
            " 1   ZipCode                               144 non-null    int64  \n",
            " 2   City                                  144 non-null    object \n",
            " 3   County                                144 non-null    object \n",
            " 4   State                                 144 non-null    object \n",
            " 5   Latitude                              144 non-null    float64\n",
            " 6   Longitude                             144 non-null    float64\n",
            " 7   DominantAreaCode                      144 non-null    int64  \n",
            " 8   ResidentialDeliveries                 144 non-null    int64  \n",
            " 9   ResidentialPOBoxes                    144 non-null    int64  \n",
            " 10  BusinessDeliveries                    144 non-null    int64  \n",
            " 11  BusinessPOBoxes                       144 non-null    int64  \n",
            " 12  LastLineIndicator                     88 non-null     object \n",
            " 13  TotalPopulation                       144 non-null    int64  \n",
            " 14  PopulationWhite                       144 non-null    int64  \n",
            " 15  PopulationAfricanAmerican             144 non-null    int64  \n",
            " 16  PopulationAmericanIndianAlaskaNative  144 non-null    int64  \n",
            " 17  PopulationAsian                       144 non-null    int64  \n",
            " 18  PopulationHispanic                    144 non-null    int64  \n",
            " 19  PopulationPacificIslander             144 non-null    int64  \n",
            " 20  PopulationOther                       144 non-null    int64  \n",
            " 21  PopulationMultipleRace                144 non-null    int64  \n",
            " 22  MedianHouseholdIncome                 144 non-null    int64  \n",
            " 23  PerCapitaIncome                       144 non-null    int64  \n",
            " 24  MedianHomeValue                       143 non-null    float64\n",
            " 25  MedianAge                             144 non-null    float64\n",
            " 26  MedianAgeMale                         144 non-null    float64\n",
            " 27  MedianAgeFemale                       144 non-null    float64\n",
            " 28  EducationNinthGradeOrLess             144 non-null    int64  \n",
            " 29  EducationSomeHighSchool               144 non-null    int64  \n",
            " 30  EducationHighSchoolGraduate           144 non-null    int64  \n",
            " 31  EducationSomeCollegeWithoutDiploma    144 non-null    int64  \n",
            " 32  EducationAssociatesDegree             144 non-null    int64  \n",
            " 33  EducationBachelorsDegree              144 non-null    int64  \n",
            "dtypes: float64(6), int64(24), object(4)\n",
            "memory usage: 38.4+ KB\n"
          ]
        }
      ]
    },
    {
      "cell_type": "code",
      "source": [
        "consumer_df.head()"
      ],
      "metadata": {
        "colab": {
          "base_uri": "https://localhost:8080/",
          "height": 412
        },
        "id": "y32dPr_3b35g",
        "outputId": "8fd44460-509d-4911-ab8b-a4bc64dc85f7"
      },
      "execution_count": null,
      "outputs": [
        {
          "output_type": "execute_result",
          "data": {
            "text/plain": [
              "   RecordID         MAK     BaseMak                 Address        City State  \\\n",
              "0         1  5690025747           0           322 E 2nd Ave    La Habra    CA   \n",
              "1         2  3719106908  9079495908       1220 W Lambert Rd    La Habra    CA   \n",
              "2         3  8935162967           0       312 S Valencia St    La Habra    CA   \n",
              "3         4  9349379663           0  201 E Bridenbecker Ave    La Habra    CA   \n",
              "4         5  9444642355           0        1126 Salvador St  Costa Mesa    CA   \n",
              "\n",
              "   Zipcode   Latitude   Longitude OwnerRenter  HomePurchaseDate Charitable  \\\n",
              "0    90631  33.929670 -117.942216           R               NaN          Y   \n",
              "1    90631  33.923508 -117.960188           O          200409.0          Y   \n",
              "2    90631  33.929476 -117.935571           O          198905.0          Y   \n",
              "3    90631  33.928993 -117.944763           O          201309.0          Y   \n",
              "4    92626  33.675024 -117.904716           R               NaN          N   \n",
              "\n",
              "  Health Political Religious Veteran MaritalStatus SingleParent  \\\n",
              "0      N         N         Y     NaN             S            Y   \n",
              "1      N         Y         N     NaN             S          NaN   \n",
              "2      N         Y         N     NaN             M          NaN   \n",
              "3      N         N         N     NaN             S          NaN   \n",
              "4      N         N         N     NaN             M          NaN   \n",
              "\n",
              "   NumberOfChildren GrandChildren  HouseholdSize CatOwner DogOwner  NetWorth  \\\n",
              "0               2.0           NaN            5.0      NaN      NaN       4.0   \n",
              "1               NaN           NaN            1.0      NaN      NaN       7.0   \n",
              "2               NaN           NaN            2.0      NaN      NaN       9.0   \n",
              "3               NaN           NaN            2.0      NaN      NaN       9.0   \n",
              "4               NaN           NaN            2.0      NaN      NaN       9.0   \n",
              "\n",
              "  CreditCardUser  VehicleKnownOwnedNumber SelfImprovement MusicCollector  \\\n",
              "0              Y                      NaN             NaN            NaN   \n",
              "1              Y                      NaN             NaN            NaN   \n",
              "2              Y                      NaN             NaN            NaN   \n",
              "3              Y                      1.0             NaN            NaN   \n",
              "4            NaN                      NaN             NaN            NaN   \n",
              "\n",
              "  MovieCollector Photography AutoWork Fishing CampingHiking HuntingShooting  \\\n",
              "0            NaN         NaN      NaN     NaN             Y             NaN   \n",
              "1            NaN         NaN      NaN     NaN           NaN             NaN   \n",
              "2            NaN         NaN      NaN     NaN           NaN             NaN   \n",
              "3            NaN         NaN      NaN     NaN           NaN               Y   \n",
              "4            NaN         NaN      NaN     NaN           NaN             NaN   \n",
              "\n",
              "  Gardening EnvironmentalIssues HomeImprovement HomeImprovementDIY  \\\n",
              "0       NaN                 NaN             NaN                NaN   \n",
              "1       NaN                 NaN               Y                NaN   \n",
              "2         Y                 NaN             NaN                NaN   \n",
              "3         Y                 NaN               Y                NaN   \n",
              "4       NaN                 NaN             NaN                NaN   \n",
              "\n",
              "  OutdoorsGrouping InvestmentsForeign BeautyCosmetics TVCable  \\\n",
              "0                Y                NaN             NaN       Y   \n",
              "1              NaN                  Y             NaN       Y   \n",
              "2              NaN                  Y             NaN       Y   \n",
              "3                Y                  Y             NaN       Y   \n",
              "4              NaN                  Y             NaN       Y   \n",
              "\n",
              "  WirelessCellularPhoneOwner EducationOnline  \n",
              "0                          Y             NaN  \n",
              "1                          Y             NaN  \n",
              "2                          Y             NaN  \n",
              "3                          Y             NaN  \n",
              "4                          Y             NaN  "
            ],
            "text/html": [
              "\n",
              "  <div id=\"df-073d7672-a768-4aac-abb9-ee27ba018c2b\" class=\"colab-df-container\">\n",
              "    <div>\n",
              "<style scoped>\n",
              "    .dataframe tbody tr th:only-of-type {\n",
              "        vertical-align: middle;\n",
              "    }\n",
              "\n",
              "    .dataframe tbody tr th {\n",
              "        vertical-align: top;\n",
              "    }\n",
              "\n",
              "    .dataframe thead th {\n",
              "        text-align: right;\n",
              "    }\n",
              "</style>\n",
              "<table border=\"1\" class=\"dataframe\">\n",
              "  <thead>\n",
              "    <tr style=\"text-align: right;\">\n",
              "      <th></th>\n",
              "      <th>RecordID</th>\n",
              "      <th>MAK</th>\n",
              "      <th>BaseMak</th>\n",
              "      <th>Address</th>\n",
              "      <th>City</th>\n",
              "      <th>State</th>\n",
              "      <th>Zipcode</th>\n",
              "      <th>Latitude</th>\n",
              "      <th>Longitude</th>\n",
              "      <th>OwnerRenter</th>\n",
              "      <th>HomePurchaseDate</th>\n",
              "      <th>Charitable</th>\n",
              "      <th>Health</th>\n",
              "      <th>Political</th>\n",
              "      <th>Religious</th>\n",
              "      <th>Veteran</th>\n",
              "      <th>MaritalStatus</th>\n",
              "      <th>SingleParent</th>\n",
              "      <th>NumberOfChildren</th>\n",
              "      <th>GrandChildren</th>\n",
              "      <th>HouseholdSize</th>\n",
              "      <th>CatOwner</th>\n",
              "      <th>DogOwner</th>\n",
              "      <th>NetWorth</th>\n",
              "      <th>CreditCardUser</th>\n",
              "      <th>VehicleKnownOwnedNumber</th>\n",
              "      <th>SelfImprovement</th>\n",
              "      <th>MusicCollector</th>\n",
              "      <th>MovieCollector</th>\n",
              "      <th>Photography</th>\n",
              "      <th>AutoWork</th>\n",
              "      <th>Fishing</th>\n",
              "      <th>CampingHiking</th>\n",
              "      <th>HuntingShooting</th>\n",
              "      <th>Gardening</th>\n",
              "      <th>EnvironmentalIssues</th>\n",
              "      <th>HomeImprovement</th>\n",
              "      <th>HomeImprovementDIY</th>\n",
              "      <th>OutdoorsGrouping</th>\n",
              "      <th>InvestmentsForeign</th>\n",
              "      <th>BeautyCosmetics</th>\n",
              "      <th>TVCable</th>\n",
              "      <th>WirelessCellularPhoneOwner</th>\n",
              "      <th>EducationOnline</th>\n",
              "    </tr>\n",
              "  </thead>\n",
              "  <tbody>\n",
              "    <tr>\n",
              "      <th>0</th>\n",
              "      <td>1</td>\n",
              "      <td>5690025747</td>\n",
              "      <td>0</td>\n",
              "      <td>322 E 2nd Ave</td>\n",
              "      <td>La Habra</td>\n",
              "      <td>CA</td>\n",
              "      <td>90631</td>\n",
              "      <td>33.929670</td>\n",
              "      <td>-117.942216</td>\n",
              "      <td>R</td>\n",
              "      <td>NaN</td>\n",
              "      <td>Y</td>\n",
              "      <td>N</td>\n",
              "      <td>N</td>\n",
              "      <td>Y</td>\n",
              "      <td>NaN</td>\n",
              "      <td>S</td>\n",
              "      <td>Y</td>\n",
              "      <td>2.0</td>\n",
              "      <td>NaN</td>\n",
              "      <td>5.0</td>\n",
              "      <td>NaN</td>\n",
              "      <td>NaN</td>\n",
              "      <td>4.0</td>\n",
              "      <td>Y</td>\n",
              "      <td>NaN</td>\n",
              "      <td>NaN</td>\n",
              "      <td>NaN</td>\n",
              "      <td>NaN</td>\n",
              "      <td>NaN</td>\n",
              "      <td>NaN</td>\n",
              "      <td>NaN</td>\n",
              "      <td>Y</td>\n",
              "      <td>NaN</td>\n",
              "      <td>NaN</td>\n",
              "      <td>NaN</td>\n",
              "      <td>NaN</td>\n",
              "      <td>NaN</td>\n",
              "      <td>Y</td>\n",
              "      <td>NaN</td>\n",
              "      <td>NaN</td>\n",
              "      <td>Y</td>\n",
              "      <td>Y</td>\n",
              "      <td>NaN</td>\n",
              "    </tr>\n",
              "    <tr>\n",
              "      <th>1</th>\n",
              "      <td>2</td>\n",
              "      <td>3719106908</td>\n",
              "      <td>9079495908</td>\n",
              "      <td>1220 W Lambert Rd</td>\n",
              "      <td>La Habra</td>\n",
              "      <td>CA</td>\n",
              "      <td>90631</td>\n",
              "      <td>33.923508</td>\n",
              "      <td>-117.960188</td>\n",
              "      <td>O</td>\n",
              "      <td>200409.0</td>\n",
              "      <td>Y</td>\n",
              "      <td>N</td>\n",
              "      <td>Y</td>\n",
              "      <td>N</td>\n",
              "      <td>NaN</td>\n",
              "      <td>S</td>\n",
              "      <td>NaN</td>\n",
              "      <td>NaN</td>\n",
              "      <td>NaN</td>\n",
              "      <td>1.0</td>\n",
              "      <td>NaN</td>\n",
              "      <td>NaN</td>\n",
              "      <td>7.0</td>\n",
              "      <td>Y</td>\n",
              "      <td>NaN</td>\n",
              "      <td>NaN</td>\n",
              "      <td>NaN</td>\n",
              "      <td>NaN</td>\n",
              "      <td>NaN</td>\n",
              "      <td>NaN</td>\n",
              "      <td>NaN</td>\n",
              "      <td>NaN</td>\n",
              "      <td>NaN</td>\n",
              "      <td>NaN</td>\n",
              "      <td>NaN</td>\n",
              "      <td>Y</td>\n",
              "      <td>NaN</td>\n",
              "      <td>NaN</td>\n",
              "      <td>Y</td>\n",
              "      <td>NaN</td>\n",
              "      <td>Y</td>\n",
              "      <td>Y</td>\n",
              "      <td>NaN</td>\n",
              "    </tr>\n",
              "    <tr>\n",
              "      <th>2</th>\n",
              "      <td>3</td>\n",
              "      <td>8935162967</td>\n",
              "      <td>0</td>\n",
              "      <td>312 S Valencia St</td>\n",
              "      <td>La Habra</td>\n",
              "      <td>CA</td>\n",
              "      <td>90631</td>\n",
              "      <td>33.929476</td>\n",
              "      <td>-117.935571</td>\n",
              "      <td>O</td>\n",
              "      <td>198905.0</td>\n",
              "      <td>Y</td>\n",
              "      <td>N</td>\n",
              "      <td>Y</td>\n",
              "      <td>N</td>\n",
              "      <td>NaN</td>\n",
              "      <td>M</td>\n",
              "      <td>NaN</td>\n",
              "      <td>NaN</td>\n",
              "      <td>NaN</td>\n",
              "      <td>2.0</td>\n",
              "      <td>NaN</td>\n",
              "      <td>NaN</td>\n",
              "      <td>9.0</td>\n",
              "      <td>Y</td>\n",
              "      <td>NaN</td>\n",
              "      <td>NaN</td>\n",
              "      <td>NaN</td>\n",
              "      <td>NaN</td>\n",
              "      <td>NaN</td>\n",
              "      <td>NaN</td>\n",
              "      <td>NaN</td>\n",
              "      <td>NaN</td>\n",
              "      <td>NaN</td>\n",
              "      <td>Y</td>\n",
              "      <td>NaN</td>\n",
              "      <td>NaN</td>\n",
              "      <td>NaN</td>\n",
              "      <td>NaN</td>\n",
              "      <td>Y</td>\n",
              "      <td>NaN</td>\n",
              "      <td>Y</td>\n",
              "      <td>Y</td>\n",
              "      <td>NaN</td>\n",
              "    </tr>\n",
              "    <tr>\n",
              "      <th>3</th>\n",
              "      <td>4</td>\n",
              "      <td>9349379663</td>\n",
              "      <td>0</td>\n",
              "      <td>201 E Bridenbecker Ave</td>\n",
              "      <td>La Habra</td>\n",
              "      <td>CA</td>\n",
              "      <td>90631</td>\n",
              "      <td>33.928993</td>\n",
              "      <td>-117.944763</td>\n",
              "      <td>O</td>\n",
              "      <td>201309.0</td>\n",
              "      <td>Y</td>\n",
              "      <td>N</td>\n",
              "      <td>N</td>\n",
              "      <td>N</td>\n",
              "      <td>NaN</td>\n",
              "      <td>S</td>\n",
              "      <td>NaN</td>\n",
              "      <td>NaN</td>\n",
              "      <td>NaN</td>\n",
              "      <td>2.0</td>\n",
              "      <td>NaN</td>\n",
              "      <td>NaN</td>\n",
              "      <td>9.0</td>\n",
              "      <td>Y</td>\n",
              "      <td>1.0</td>\n",
              "      <td>NaN</td>\n",
              "      <td>NaN</td>\n",
              "      <td>NaN</td>\n",
              "      <td>NaN</td>\n",
              "      <td>NaN</td>\n",
              "      <td>NaN</td>\n",
              "      <td>NaN</td>\n",
              "      <td>Y</td>\n",
              "      <td>Y</td>\n",
              "      <td>NaN</td>\n",
              "      <td>Y</td>\n",
              "      <td>NaN</td>\n",
              "      <td>Y</td>\n",
              "      <td>Y</td>\n",
              "      <td>NaN</td>\n",
              "      <td>Y</td>\n",
              "      <td>Y</td>\n",
              "      <td>NaN</td>\n",
              "    </tr>\n",
              "    <tr>\n",
              "      <th>4</th>\n",
              "      <td>5</td>\n",
              "      <td>9444642355</td>\n",
              "      <td>0</td>\n",
              "      <td>1126 Salvador St</td>\n",
              "      <td>Costa Mesa</td>\n",
              "      <td>CA</td>\n",
              "      <td>92626</td>\n",
              "      <td>33.675024</td>\n",
              "      <td>-117.904716</td>\n",
              "      <td>R</td>\n",
              "      <td>NaN</td>\n",
              "      <td>N</td>\n",
              "      <td>N</td>\n",
              "      <td>N</td>\n",
              "      <td>N</td>\n",
              "      <td>NaN</td>\n",
              "      <td>M</td>\n",
              "      <td>NaN</td>\n",
              "      <td>NaN</td>\n",
              "      <td>NaN</td>\n",
              "      <td>2.0</td>\n",
              "      <td>NaN</td>\n",
              "      <td>NaN</td>\n",
              "      <td>9.0</td>\n",
              "      <td>NaN</td>\n",
              "      <td>NaN</td>\n",
              "      <td>NaN</td>\n",
              "      <td>NaN</td>\n",
              "      <td>NaN</td>\n",
              "      <td>NaN</td>\n",
              "      <td>NaN</td>\n",
              "      <td>NaN</td>\n",
              "      <td>NaN</td>\n",
              "      <td>NaN</td>\n",
              "      <td>NaN</td>\n",
              "      <td>NaN</td>\n",
              "      <td>NaN</td>\n",
              "      <td>NaN</td>\n",
              "      <td>NaN</td>\n",
              "      <td>Y</td>\n",
              "      <td>NaN</td>\n",
              "      <td>Y</td>\n",
              "      <td>Y</td>\n",
              "      <td>NaN</td>\n",
              "    </tr>\n",
              "  </tbody>\n",
              "</table>\n",
              "</div>\n",
              "    <div class=\"colab-df-buttons\">\n",
              "\n",
              "  <div class=\"colab-df-container\">\n",
              "    <button class=\"colab-df-convert\" onclick=\"convertToInteractive('df-073d7672-a768-4aac-abb9-ee27ba018c2b')\"\n",
              "            title=\"Convert this dataframe to an interactive table.\"\n",
              "            style=\"display:none;\">\n",
              "\n",
              "  <svg xmlns=\"http://www.w3.org/2000/svg\" height=\"24px\" viewBox=\"0 -960 960 960\">\n",
              "    <path d=\"M120-120v-720h720v720H120Zm60-500h600v-160H180v160Zm220 220h160v-160H400v160Zm0 220h160v-160H400v160ZM180-400h160v-160H180v160Zm440 0h160v-160H620v160ZM180-180h160v-160H180v160Zm440 0h160v-160H620v160Z\"/>\n",
              "  </svg>\n",
              "    </button>\n",
              "\n",
              "  <style>\n",
              "    .colab-df-container {\n",
              "      display:flex;\n",
              "      gap: 12px;\n",
              "    }\n",
              "\n",
              "    .colab-df-convert {\n",
              "      background-color: #E8F0FE;\n",
              "      border: none;\n",
              "      border-radius: 50%;\n",
              "      cursor: pointer;\n",
              "      display: none;\n",
              "      fill: #1967D2;\n",
              "      height: 32px;\n",
              "      padding: 0 0 0 0;\n",
              "      width: 32px;\n",
              "    }\n",
              "\n",
              "    .colab-df-convert:hover {\n",
              "      background-color: #E2EBFA;\n",
              "      box-shadow: 0px 1px 2px rgba(60, 64, 67, 0.3), 0px 1px 3px 1px rgba(60, 64, 67, 0.15);\n",
              "      fill: #174EA6;\n",
              "    }\n",
              "\n",
              "    .colab-df-buttons div {\n",
              "      margin-bottom: 4px;\n",
              "    }\n",
              "\n",
              "    [theme=dark] .colab-df-convert {\n",
              "      background-color: #3B4455;\n",
              "      fill: #D2E3FC;\n",
              "    }\n",
              "\n",
              "    [theme=dark] .colab-df-convert:hover {\n",
              "      background-color: #434B5C;\n",
              "      box-shadow: 0px 1px 3px 1px rgba(0, 0, 0, 0.15);\n",
              "      filter: drop-shadow(0px 1px 2px rgba(0, 0, 0, 0.3));\n",
              "      fill: #FFFFFF;\n",
              "    }\n",
              "  </style>\n",
              "\n",
              "    <script>\n",
              "      const buttonEl =\n",
              "        document.querySelector('#df-073d7672-a768-4aac-abb9-ee27ba018c2b button.colab-df-convert');\n",
              "      buttonEl.style.display =\n",
              "        google.colab.kernel.accessAllowed ? 'block' : 'none';\n",
              "\n",
              "      async function convertToInteractive(key) {\n",
              "        const element = document.querySelector('#df-073d7672-a768-4aac-abb9-ee27ba018c2b');\n",
              "        const dataTable =\n",
              "          await google.colab.kernel.invokeFunction('convertToInteractive',\n",
              "                                                    [key], {});\n",
              "        if (!dataTable) return;\n",
              "\n",
              "        const docLinkHtml = 'Like what you see? Visit the ' +\n",
              "          '<a target=\"_blank\" href=https://colab.research.google.com/notebooks/data_table.ipynb>data table notebook</a>'\n",
              "          + ' to learn more about interactive tables.';\n",
              "        element.innerHTML = '';\n",
              "        dataTable['output_type'] = 'display_data';\n",
              "        await google.colab.output.renderOutput(dataTable, element);\n",
              "        const docLink = document.createElement('div');\n",
              "        docLink.innerHTML = docLinkHtml;\n",
              "        element.appendChild(docLink);\n",
              "      }\n",
              "    </script>\n",
              "  </div>\n",
              "\n",
              "\n",
              "<div id=\"df-9e9bd224-63b4-434b-af99-34ebb52a08df\">\n",
              "  <button class=\"colab-df-quickchart\" onclick=\"quickchart('df-9e9bd224-63b4-434b-af99-34ebb52a08df')\"\n",
              "            title=\"Suggest charts\"\n",
              "            style=\"display:none;\">\n",
              "\n",
              "<svg xmlns=\"http://www.w3.org/2000/svg\" height=\"24px\"viewBox=\"0 0 24 24\"\n",
              "     width=\"24px\">\n",
              "    <g>\n",
              "        <path d=\"M19 3H5c-1.1 0-2 .9-2 2v14c0 1.1.9 2 2 2h14c1.1 0 2-.9 2-2V5c0-1.1-.9-2-2-2zM9 17H7v-7h2v7zm4 0h-2V7h2v10zm4 0h-2v-4h2v4z\"/>\n",
              "    </g>\n",
              "</svg>\n",
              "  </button>\n",
              "\n",
              "<style>\n",
              "  .colab-df-quickchart {\n",
              "      --bg-color: #E8F0FE;\n",
              "      --fill-color: #1967D2;\n",
              "      --hover-bg-color: #E2EBFA;\n",
              "      --hover-fill-color: #174EA6;\n",
              "      --disabled-fill-color: #AAA;\n",
              "      --disabled-bg-color: #DDD;\n",
              "  }\n",
              "\n",
              "  [theme=dark] .colab-df-quickchart {\n",
              "      --bg-color: #3B4455;\n",
              "      --fill-color: #D2E3FC;\n",
              "      --hover-bg-color: #434B5C;\n",
              "      --hover-fill-color: #FFFFFF;\n",
              "      --disabled-bg-color: #3B4455;\n",
              "      --disabled-fill-color: #666;\n",
              "  }\n",
              "\n",
              "  .colab-df-quickchart {\n",
              "    background-color: var(--bg-color);\n",
              "    border: none;\n",
              "    border-radius: 50%;\n",
              "    cursor: pointer;\n",
              "    display: none;\n",
              "    fill: var(--fill-color);\n",
              "    height: 32px;\n",
              "    padding: 0;\n",
              "    width: 32px;\n",
              "  }\n",
              "\n",
              "  .colab-df-quickchart:hover {\n",
              "    background-color: var(--hover-bg-color);\n",
              "    box-shadow: 0 1px 2px rgba(60, 64, 67, 0.3), 0 1px 3px 1px rgba(60, 64, 67, 0.15);\n",
              "    fill: var(--button-hover-fill-color);\n",
              "  }\n",
              "\n",
              "  .colab-df-quickchart-complete:disabled,\n",
              "  .colab-df-quickchart-complete:disabled:hover {\n",
              "    background-color: var(--disabled-bg-color);\n",
              "    fill: var(--disabled-fill-color);\n",
              "    box-shadow: none;\n",
              "  }\n",
              "\n",
              "  .colab-df-spinner {\n",
              "    border: 2px solid var(--fill-color);\n",
              "    border-color: transparent;\n",
              "    border-bottom-color: var(--fill-color);\n",
              "    animation:\n",
              "      spin 1s steps(1) infinite;\n",
              "  }\n",
              "\n",
              "  @keyframes spin {\n",
              "    0% {\n",
              "      border-color: transparent;\n",
              "      border-bottom-color: var(--fill-color);\n",
              "      border-left-color: var(--fill-color);\n",
              "    }\n",
              "    20% {\n",
              "      border-color: transparent;\n",
              "      border-left-color: var(--fill-color);\n",
              "      border-top-color: var(--fill-color);\n",
              "    }\n",
              "    30% {\n",
              "      border-color: transparent;\n",
              "      border-left-color: var(--fill-color);\n",
              "      border-top-color: var(--fill-color);\n",
              "      border-right-color: var(--fill-color);\n",
              "    }\n",
              "    40% {\n",
              "      border-color: transparent;\n",
              "      border-right-color: var(--fill-color);\n",
              "      border-top-color: var(--fill-color);\n",
              "    }\n",
              "    60% {\n",
              "      border-color: transparent;\n",
              "      border-right-color: var(--fill-color);\n",
              "    }\n",
              "    80% {\n",
              "      border-color: transparent;\n",
              "      border-right-color: var(--fill-color);\n",
              "      border-bottom-color: var(--fill-color);\n",
              "    }\n",
              "    90% {\n",
              "      border-color: transparent;\n",
              "      border-bottom-color: var(--fill-color);\n",
              "    }\n",
              "  }\n",
              "</style>\n",
              "\n",
              "  <script>\n",
              "    async function quickchart(key) {\n",
              "      const quickchartButtonEl =\n",
              "        document.querySelector('#' + key + ' button');\n",
              "      quickchartButtonEl.disabled = true;  // To prevent multiple clicks.\n",
              "      quickchartButtonEl.classList.add('colab-df-spinner');\n",
              "      try {\n",
              "        const charts = await google.colab.kernel.invokeFunction(\n",
              "            'suggestCharts', [key], {});\n",
              "      } catch (error) {\n",
              "        console.error('Error during call to suggestCharts:', error);\n",
              "      }\n",
              "      quickchartButtonEl.classList.remove('colab-df-spinner');\n",
              "      quickchartButtonEl.classList.add('colab-df-quickchart-complete');\n",
              "    }\n",
              "    (() => {\n",
              "      let quickchartButtonEl =\n",
              "        document.querySelector('#df-9e9bd224-63b4-434b-af99-34ebb52a08df button');\n",
              "      quickchartButtonEl.style.display =\n",
              "        google.colab.kernel.accessAllowed ? 'block' : 'none';\n",
              "    })();\n",
              "  </script>\n",
              "</div>\n",
              "\n",
              "    </div>\n",
              "  </div>\n"
            ],
            "application/vnd.google.colaboratory.intrinsic+json": {
              "type": "dataframe",
              "variable_name": "consumer_df"
            }
          },
          "metadata": {},
          "execution_count": 7
        }
      ]
    },
    {
      "cell_type": "code",
      "source": [
        "consumer_df.isnull().sum()"
      ],
      "metadata": {
        "colab": {
          "base_uri": "https://localhost:8080/"
        },
        "id": "DTq1O5r-cc6C",
        "outputId": "41b09c9a-50b1-4980-952c-a5b28dee358a"
      },
      "execution_count": null,
      "outputs": [
        {
          "output_type": "execute_result",
          "data": {
            "text/plain": [
              "RecordID                            0\n",
              "MAK                                 0\n",
              "BaseMak                             0\n",
              "Address                             0\n",
              "City                                0\n",
              "State                               0\n",
              "Zipcode                             0\n",
              "Latitude                            0\n",
              "Longitude                           0\n",
              "OwnerRenter                       234\n",
              "HomePurchaseDate               856515\n",
              "Charitable                          0\n",
              "Health                              0\n",
              "Political                           0\n",
              "Religious                           0\n",
              "Veteran                       1925702\n",
              "MaritalStatus                  140409\n",
              "SingleParent                  1863828\n",
              "NumberOfChildren               906911\n",
              "GrandChildren                 1914389\n",
              "HouseholdSize                   23502\n",
              "CatOwner                      1680557\n",
              "DogOwner                      1525831\n",
              "NetWorth                        23115\n",
              "CreditCardUser                 259475\n",
              "VehicleKnownOwnedNumber       1513660\n",
              "SelfImprovement               1752123\n",
              "MusicCollector                1986445\n",
              "MovieCollector                1623340\n",
              "Photography                   1664853\n",
              "AutoWork                      1480581\n",
              "Fishing                       1791219\n",
              "CampingHiking                 1682846\n",
              "HuntingShooting               1500427\n",
              "Gardening                      849644\n",
              "EnvironmentalIssues           1838925\n",
              "HomeImprovement               1088717\n",
              "HomeImprovementDIY            1538058\n",
              "OutdoorsGrouping               906989\n",
              "InvestmentsForeign             336738\n",
              "BeautyCosmetics               1525831\n",
              "TVCable                        230396\n",
              "WirelessCellularPhoneOwner     192198\n",
              "EducationOnline               1795050\n",
              "dtype: int64"
            ]
          },
          "metadata": {},
          "execution_count": 8
        }
      ]
    },
    {
      "cell_type": "code",
      "source": [
        "non_predictor_columns = ['CreditCardUser', 'InvestmentsForeign','CatOwner', 'DogOwner', 'BeautyCosmetics', 'RecordID', 'MAK', 'BaseMak', 'Address', 'City', 'State', 'Latitude', 'Longitude', 'HomePurchaseDate', 'VehicleKnownOwnedNumber', 'WirelessCellularPhoneOwner', 'GrandChildren', 'EnvironmentalIssues' ,'EducationOnline']\n",
        "predictive_column = 'Health'"
      ],
      "metadata": {
        "id": "g8sJ8vqdcxtl"
      },
      "execution_count": null,
      "outputs": []
    },
    {
      "cell_type": "code",
      "source": [
        "consumer_df_new = consumer_df.drop(columns = non_predictor_columns)"
      ],
      "metadata": {
        "id": "-1HfAujGdeHG"
      },
      "execution_count": null,
      "outputs": []
    },
    {
      "cell_type": "code",
      "source": [
        "consumer_df_new.shape"
      ],
      "metadata": {
        "colab": {
          "base_uri": "https://localhost:8080/"
        },
        "id": "BkrD5q4mdfwJ",
        "outputId": "8c9ce2a4-7623-408e-c100-dffc39e341e3"
      },
      "execution_count": null,
      "outputs": [
        {
          "output_type": "execute_result",
          "data": {
            "text/plain": [
              "(2089792, 25)"
            ]
          },
          "metadata": {},
          "execution_count": 11
        }
      ]
    },
    {
      "cell_type": "code",
      "source": [
        "consumer_df_new_1 = consumer_df_new.replace({None: -1}).dropna()\n"
      ],
      "metadata": {
        "id": "HPIkMsmCk1VJ"
      },
      "execution_count": null,
      "outputs": []
    },
    {
      "cell_type": "code",
      "source": [
        "consumer_df_new_1.shape"
      ],
      "metadata": {
        "colab": {
          "base_uri": "https://localhost:8080/"
        },
        "id": "ouyM7JdWe084",
        "outputId": "be03ceba-fbd2-459e-fa6a-d9f83892cbfb"
      },
      "execution_count": null,
      "outputs": [
        {
          "output_type": "execute_result",
          "data": {
            "text/plain": [
              "(1182872, 25)"
            ]
          },
          "metadata": {},
          "execution_count": 13
        }
      ]
    },
    {
      "cell_type": "code",
      "source": [
        "consumer_df_new_1.isnull().sum()"
      ],
      "metadata": {
        "colab": {
          "base_uri": "https://localhost:8080/"
        },
        "id": "NUnsKNgZigHY",
        "outputId": "63336e27-553a-4eaf-a5eb-d40e049f2d1e"
      },
      "execution_count": null,
      "outputs": [
        {
          "output_type": "execute_result",
          "data": {
            "text/plain": [
              "Zipcode               0\n",
              "OwnerRenter           0\n",
              "Charitable            0\n",
              "Health                0\n",
              "Political             0\n",
              "Religious             0\n",
              "Veteran               0\n",
              "MaritalStatus         0\n",
              "SingleParent          0\n",
              "NumberOfChildren      0\n",
              "HouseholdSize         0\n",
              "NetWorth              0\n",
              "SelfImprovement       0\n",
              "MusicCollector        0\n",
              "MovieCollector        0\n",
              "Photography           0\n",
              "AutoWork              0\n",
              "Fishing               0\n",
              "CampingHiking         0\n",
              "HuntingShooting       0\n",
              "Gardening             0\n",
              "HomeImprovement       0\n",
              "HomeImprovementDIY    0\n",
              "OutdoorsGrouping      0\n",
              "TVCable               0\n",
              "dtype: int64"
            ]
          },
          "metadata": {},
          "execution_count": 14
        }
      ]
    },
    {
      "cell_type": "code",
      "source": [
        "consumer_df_new_1.head()"
      ],
      "metadata": {
        "colab": {
          "base_uri": "https://localhost:8080/",
          "height": 280
        },
        "id": "JVSO2fCXiiYK",
        "outputId": "130bbf1e-1128-47a2-92d1-dfc2c292cae3"
      },
      "execution_count": null,
      "outputs": [
        {
          "output_type": "execute_result",
          "data": {
            "text/plain": [
              "    Zipcode OwnerRenter Charitable Health Political Religious Veteran  \\\n",
              "0     90631           R          Y      N         N         Y      -1   \n",
              "5     92626           O          Y      Y         Y         N      -1   \n",
              "6     92626           O          Y      Y         Y         Y       Y   \n",
              "7     92624           O          Y      Y         Y         N      -1   \n",
              "10    92626           O          Y      N         N         N      -1   \n",
              "\n",
              "   MaritalStatus SingleParent  NumberOfChildren  HouseholdSize  NetWorth  \\\n",
              "0              S            Y               2.0            5.0       4.0   \n",
              "5              M           -1               1.0            4.0       9.0   \n",
              "6              M           -1               0.0            2.0       9.0   \n",
              "7              M           -1               1.0            3.0       8.0   \n",
              "10             M           -1               0.0            5.0       9.0   \n",
              "\n",
              "   SelfImprovement MusicCollector MovieCollector Photography AutoWork Fishing  \\\n",
              "0               -1             -1             -1          -1       -1      -1   \n",
              "5               -1             -1             -1           Y        Y      -1   \n",
              "6               -1              Y              Y           Y        Y      -1   \n",
              "7               -1             -1             -1          -1       -1      -1   \n",
              "10              -1              Y             -1          -1       -1       Y   \n",
              "\n",
              "   CampingHiking HuntingShooting Gardening HomeImprovement HomeImprovementDIY  \\\n",
              "0              Y              -1        -1              -1                 -1   \n",
              "5             -1              -1         Y               Y                  Y   \n",
              "6             -1              -1         Y               Y                  Y   \n",
              "7             -1              -1        -1              -1                 -1   \n",
              "10            -1               Y        -1               Y                 -1   \n",
              "\n",
              "   OutdoorsGrouping TVCable  \n",
              "0                 Y       Y  \n",
              "5                 Y       Y  \n",
              "6                 Y       Y  \n",
              "7                -1       Y  \n",
              "10                Y       Y  "
            ],
            "text/html": [
              "\n",
              "  <div id=\"df-9ed5e7ef-9bf7-4023-9c6b-3d5c20726d26\" class=\"colab-df-container\">\n",
              "    <div>\n",
              "<style scoped>\n",
              "    .dataframe tbody tr th:only-of-type {\n",
              "        vertical-align: middle;\n",
              "    }\n",
              "\n",
              "    .dataframe tbody tr th {\n",
              "        vertical-align: top;\n",
              "    }\n",
              "\n",
              "    .dataframe thead th {\n",
              "        text-align: right;\n",
              "    }\n",
              "</style>\n",
              "<table border=\"1\" class=\"dataframe\">\n",
              "  <thead>\n",
              "    <tr style=\"text-align: right;\">\n",
              "      <th></th>\n",
              "      <th>Zipcode</th>\n",
              "      <th>OwnerRenter</th>\n",
              "      <th>Charitable</th>\n",
              "      <th>Health</th>\n",
              "      <th>Political</th>\n",
              "      <th>Religious</th>\n",
              "      <th>Veteran</th>\n",
              "      <th>MaritalStatus</th>\n",
              "      <th>SingleParent</th>\n",
              "      <th>NumberOfChildren</th>\n",
              "      <th>HouseholdSize</th>\n",
              "      <th>NetWorth</th>\n",
              "      <th>SelfImprovement</th>\n",
              "      <th>MusicCollector</th>\n",
              "      <th>MovieCollector</th>\n",
              "      <th>Photography</th>\n",
              "      <th>AutoWork</th>\n",
              "      <th>Fishing</th>\n",
              "      <th>CampingHiking</th>\n",
              "      <th>HuntingShooting</th>\n",
              "      <th>Gardening</th>\n",
              "      <th>HomeImprovement</th>\n",
              "      <th>HomeImprovementDIY</th>\n",
              "      <th>OutdoorsGrouping</th>\n",
              "      <th>TVCable</th>\n",
              "    </tr>\n",
              "  </thead>\n",
              "  <tbody>\n",
              "    <tr>\n",
              "      <th>0</th>\n",
              "      <td>90631</td>\n",
              "      <td>R</td>\n",
              "      <td>Y</td>\n",
              "      <td>N</td>\n",
              "      <td>N</td>\n",
              "      <td>Y</td>\n",
              "      <td>-1</td>\n",
              "      <td>S</td>\n",
              "      <td>Y</td>\n",
              "      <td>2.0</td>\n",
              "      <td>5.0</td>\n",
              "      <td>4.0</td>\n",
              "      <td>-1</td>\n",
              "      <td>-1</td>\n",
              "      <td>-1</td>\n",
              "      <td>-1</td>\n",
              "      <td>-1</td>\n",
              "      <td>-1</td>\n",
              "      <td>Y</td>\n",
              "      <td>-1</td>\n",
              "      <td>-1</td>\n",
              "      <td>-1</td>\n",
              "      <td>-1</td>\n",
              "      <td>Y</td>\n",
              "      <td>Y</td>\n",
              "    </tr>\n",
              "    <tr>\n",
              "      <th>5</th>\n",
              "      <td>92626</td>\n",
              "      <td>O</td>\n",
              "      <td>Y</td>\n",
              "      <td>Y</td>\n",
              "      <td>Y</td>\n",
              "      <td>N</td>\n",
              "      <td>-1</td>\n",
              "      <td>M</td>\n",
              "      <td>-1</td>\n",
              "      <td>1.0</td>\n",
              "      <td>4.0</td>\n",
              "      <td>9.0</td>\n",
              "      <td>-1</td>\n",
              "      <td>-1</td>\n",
              "      <td>-1</td>\n",
              "      <td>Y</td>\n",
              "      <td>Y</td>\n",
              "      <td>-1</td>\n",
              "      <td>-1</td>\n",
              "      <td>-1</td>\n",
              "      <td>Y</td>\n",
              "      <td>Y</td>\n",
              "      <td>Y</td>\n",
              "      <td>Y</td>\n",
              "      <td>Y</td>\n",
              "    </tr>\n",
              "    <tr>\n",
              "      <th>6</th>\n",
              "      <td>92626</td>\n",
              "      <td>O</td>\n",
              "      <td>Y</td>\n",
              "      <td>Y</td>\n",
              "      <td>Y</td>\n",
              "      <td>Y</td>\n",
              "      <td>Y</td>\n",
              "      <td>M</td>\n",
              "      <td>-1</td>\n",
              "      <td>0.0</td>\n",
              "      <td>2.0</td>\n",
              "      <td>9.0</td>\n",
              "      <td>-1</td>\n",
              "      <td>Y</td>\n",
              "      <td>Y</td>\n",
              "      <td>Y</td>\n",
              "      <td>Y</td>\n",
              "      <td>-1</td>\n",
              "      <td>-1</td>\n",
              "      <td>-1</td>\n",
              "      <td>Y</td>\n",
              "      <td>Y</td>\n",
              "      <td>Y</td>\n",
              "      <td>Y</td>\n",
              "      <td>Y</td>\n",
              "    </tr>\n",
              "    <tr>\n",
              "      <th>7</th>\n",
              "      <td>92624</td>\n",
              "      <td>O</td>\n",
              "      <td>Y</td>\n",
              "      <td>Y</td>\n",
              "      <td>Y</td>\n",
              "      <td>N</td>\n",
              "      <td>-1</td>\n",
              "      <td>M</td>\n",
              "      <td>-1</td>\n",
              "      <td>1.0</td>\n",
              "      <td>3.0</td>\n",
              "      <td>8.0</td>\n",
              "      <td>-1</td>\n",
              "      <td>-1</td>\n",
              "      <td>-1</td>\n",
              "      <td>-1</td>\n",
              "      <td>-1</td>\n",
              "      <td>-1</td>\n",
              "      <td>-1</td>\n",
              "      <td>-1</td>\n",
              "      <td>-1</td>\n",
              "      <td>-1</td>\n",
              "      <td>-1</td>\n",
              "      <td>-1</td>\n",
              "      <td>Y</td>\n",
              "    </tr>\n",
              "    <tr>\n",
              "      <th>10</th>\n",
              "      <td>92626</td>\n",
              "      <td>O</td>\n",
              "      <td>Y</td>\n",
              "      <td>N</td>\n",
              "      <td>N</td>\n",
              "      <td>N</td>\n",
              "      <td>-1</td>\n",
              "      <td>M</td>\n",
              "      <td>-1</td>\n",
              "      <td>0.0</td>\n",
              "      <td>5.0</td>\n",
              "      <td>9.0</td>\n",
              "      <td>-1</td>\n",
              "      <td>Y</td>\n",
              "      <td>-1</td>\n",
              "      <td>-1</td>\n",
              "      <td>-1</td>\n",
              "      <td>Y</td>\n",
              "      <td>-1</td>\n",
              "      <td>Y</td>\n",
              "      <td>-1</td>\n",
              "      <td>Y</td>\n",
              "      <td>-1</td>\n",
              "      <td>Y</td>\n",
              "      <td>Y</td>\n",
              "    </tr>\n",
              "  </tbody>\n",
              "</table>\n",
              "</div>\n",
              "    <div class=\"colab-df-buttons\">\n",
              "\n",
              "  <div class=\"colab-df-container\">\n",
              "    <button class=\"colab-df-convert\" onclick=\"convertToInteractive('df-9ed5e7ef-9bf7-4023-9c6b-3d5c20726d26')\"\n",
              "            title=\"Convert this dataframe to an interactive table.\"\n",
              "            style=\"display:none;\">\n",
              "\n",
              "  <svg xmlns=\"http://www.w3.org/2000/svg\" height=\"24px\" viewBox=\"0 -960 960 960\">\n",
              "    <path d=\"M120-120v-720h720v720H120Zm60-500h600v-160H180v160Zm220 220h160v-160H400v160Zm0 220h160v-160H400v160ZM180-400h160v-160H180v160Zm440 0h160v-160H620v160ZM180-180h160v-160H180v160Zm440 0h160v-160H620v160Z\"/>\n",
              "  </svg>\n",
              "    </button>\n",
              "\n",
              "  <style>\n",
              "    .colab-df-container {\n",
              "      display:flex;\n",
              "      gap: 12px;\n",
              "    }\n",
              "\n",
              "    .colab-df-convert {\n",
              "      background-color: #E8F0FE;\n",
              "      border: none;\n",
              "      border-radius: 50%;\n",
              "      cursor: pointer;\n",
              "      display: none;\n",
              "      fill: #1967D2;\n",
              "      height: 32px;\n",
              "      padding: 0 0 0 0;\n",
              "      width: 32px;\n",
              "    }\n",
              "\n",
              "    .colab-df-convert:hover {\n",
              "      background-color: #E2EBFA;\n",
              "      box-shadow: 0px 1px 2px rgba(60, 64, 67, 0.3), 0px 1px 3px 1px rgba(60, 64, 67, 0.15);\n",
              "      fill: #174EA6;\n",
              "    }\n",
              "\n",
              "    .colab-df-buttons div {\n",
              "      margin-bottom: 4px;\n",
              "    }\n",
              "\n",
              "    [theme=dark] .colab-df-convert {\n",
              "      background-color: #3B4455;\n",
              "      fill: #D2E3FC;\n",
              "    }\n",
              "\n",
              "    [theme=dark] .colab-df-convert:hover {\n",
              "      background-color: #434B5C;\n",
              "      box-shadow: 0px 1px 3px 1px rgba(0, 0, 0, 0.15);\n",
              "      filter: drop-shadow(0px 1px 2px rgba(0, 0, 0, 0.3));\n",
              "      fill: #FFFFFF;\n",
              "    }\n",
              "  </style>\n",
              "\n",
              "    <script>\n",
              "      const buttonEl =\n",
              "        document.querySelector('#df-9ed5e7ef-9bf7-4023-9c6b-3d5c20726d26 button.colab-df-convert');\n",
              "      buttonEl.style.display =\n",
              "        google.colab.kernel.accessAllowed ? 'block' : 'none';\n",
              "\n",
              "      async function convertToInteractive(key) {\n",
              "        const element = document.querySelector('#df-9ed5e7ef-9bf7-4023-9c6b-3d5c20726d26');\n",
              "        const dataTable =\n",
              "          await google.colab.kernel.invokeFunction('convertToInteractive',\n",
              "                                                    [key], {});\n",
              "        if (!dataTable) return;\n",
              "\n",
              "        const docLinkHtml = 'Like what you see? Visit the ' +\n",
              "          '<a target=\"_blank\" href=https://colab.research.google.com/notebooks/data_table.ipynb>data table notebook</a>'\n",
              "          + ' to learn more about interactive tables.';\n",
              "        element.innerHTML = '';\n",
              "        dataTable['output_type'] = 'display_data';\n",
              "        await google.colab.output.renderOutput(dataTable, element);\n",
              "        const docLink = document.createElement('div');\n",
              "        docLink.innerHTML = docLinkHtml;\n",
              "        element.appendChild(docLink);\n",
              "      }\n",
              "    </script>\n",
              "  </div>\n",
              "\n",
              "\n",
              "<div id=\"df-9ab43b82-08f8-462a-a828-83c2224ed3e5\">\n",
              "  <button class=\"colab-df-quickchart\" onclick=\"quickchart('df-9ab43b82-08f8-462a-a828-83c2224ed3e5')\"\n",
              "            title=\"Suggest charts\"\n",
              "            style=\"display:none;\">\n",
              "\n",
              "<svg xmlns=\"http://www.w3.org/2000/svg\" height=\"24px\"viewBox=\"0 0 24 24\"\n",
              "     width=\"24px\">\n",
              "    <g>\n",
              "        <path d=\"M19 3H5c-1.1 0-2 .9-2 2v14c0 1.1.9 2 2 2h14c1.1 0 2-.9 2-2V5c0-1.1-.9-2-2-2zM9 17H7v-7h2v7zm4 0h-2V7h2v10zm4 0h-2v-4h2v4z\"/>\n",
              "    </g>\n",
              "</svg>\n",
              "  </button>\n",
              "\n",
              "<style>\n",
              "  .colab-df-quickchart {\n",
              "      --bg-color: #E8F0FE;\n",
              "      --fill-color: #1967D2;\n",
              "      --hover-bg-color: #E2EBFA;\n",
              "      --hover-fill-color: #174EA6;\n",
              "      --disabled-fill-color: #AAA;\n",
              "      --disabled-bg-color: #DDD;\n",
              "  }\n",
              "\n",
              "  [theme=dark] .colab-df-quickchart {\n",
              "      --bg-color: #3B4455;\n",
              "      --fill-color: #D2E3FC;\n",
              "      --hover-bg-color: #434B5C;\n",
              "      --hover-fill-color: #FFFFFF;\n",
              "      --disabled-bg-color: #3B4455;\n",
              "      --disabled-fill-color: #666;\n",
              "  }\n",
              "\n",
              "  .colab-df-quickchart {\n",
              "    background-color: var(--bg-color);\n",
              "    border: none;\n",
              "    border-radius: 50%;\n",
              "    cursor: pointer;\n",
              "    display: none;\n",
              "    fill: var(--fill-color);\n",
              "    height: 32px;\n",
              "    padding: 0;\n",
              "    width: 32px;\n",
              "  }\n",
              "\n",
              "  .colab-df-quickchart:hover {\n",
              "    background-color: var(--hover-bg-color);\n",
              "    box-shadow: 0 1px 2px rgba(60, 64, 67, 0.3), 0 1px 3px 1px rgba(60, 64, 67, 0.15);\n",
              "    fill: var(--button-hover-fill-color);\n",
              "  }\n",
              "\n",
              "  .colab-df-quickchart-complete:disabled,\n",
              "  .colab-df-quickchart-complete:disabled:hover {\n",
              "    background-color: var(--disabled-bg-color);\n",
              "    fill: var(--disabled-fill-color);\n",
              "    box-shadow: none;\n",
              "  }\n",
              "\n",
              "  .colab-df-spinner {\n",
              "    border: 2px solid var(--fill-color);\n",
              "    border-color: transparent;\n",
              "    border-bottom-color: var(--fill-color);\n",
              "    animation:\n",
              "      spin 1s steps(1) infinite;\n",
              "  }\n",
              "\n",
              "  @keyframes spin {\n",
              "    0% {\n",
              "      border-color: transparent;\n",
              "      border-bottom-color: var(--fill-color);\n",
              "      border-left-color: var(--fill-color);\n",
              "    }\n",
              "    20% {\n",
              "      border-color: transparent;\n",
              "      border-left-color: var(--fill-color);\n",
              "      border-top-color: var(--fill-color);\n",
              "    }\n",
              "    30% {\n",
              "      border-color: transparent;\n",
              "      border-left-color: var(--fill-color);\n",
              "      border-top-color: var(--fill-color);\n",
              "      border-right-color: var(--fill-color);\n",
              "    }\n",
              "    40% {\n",
              "      border-color: transparent;\n",
              "      border-right-color: var(--fill-color);\n",
              "      border-top-color: var(--fill-color);\n",
              "    }\n",
              "    60% {\n",
              "      border-color: transparent;\n",
              "      border-right-color: var(--fill-color);\n",
              "    }\n",
              "    80% {\n",
              "      border-color: transparent;\n",
              "      border-right-color: var(--fill-color);\n",
              "      border-bottom-color: var(--fill-color);\n",
              "    }\n",
              "    90% {\n",
              "      border-color: transparent;\n",
              "      border-bottom-color: var(--fill-color);\n",
              "    }\n",
              "  }\n",
              "</style>\n",
              "\n",
              "  <script>\n",
              "    async function quickchart(key) {\n",
              "      const quickchartButtonEl =\n",
              "        document.querySelector('#' + key + ' button');\n",
              "      quickchartButtonEl.disabled = true;  // To prevent multiple clicks.\n",
              "      quickchartButtonEl.classList.add('colab-df-spinner');\n",
              "      try {\n",
              "        const charts = await google.colab.kernel.invokeFunction(\n",
              "            'suggestCharts', [key], {});\n",
              "      } catch (error) {\n",
              "        console.error('Error during call to suggestCharts:', error);\n",
              "      }\n",
              "      quickchartButtonEl.classList.remove('colab-df-spinner');\n",
              "      quickchartButtonEl.classList.add('colab-df-quickchart-complete');\n",
              "    }\n",
              "    (() => {\n",
              "      let quickchartButtonEl =\n",
              "        document.querySelector('#df-9ab43b82-08f8-462a-a828-83c2224ed3e5 button');\n",
              "      quickchartButtonEl.style.display =\n",
              "        google.colab.kernel.accessAllowed ? 'block' : 'none';\n",
              "    })();\n",
              "  </script>\n",
              "</div>\n",
              "\n",
              "    </div>\n",
              "  </div>\n"
            ],
            "application/vnd.google.colaboratory.intrinsic+json": {
              "type": "dataframe",
              "variable_name": "consumer_df_new_1"
            }
          },
          "metadata": {},
          "execution_count": 15
        }
      ]
    },
    {
      "cell_type": "code",
      "source": [
        "consumer_df_new_1['OwnerRenter'] = consumer_df_new_1['OwnerRenter'].apply(lambda x:1 if x == 'O' else 0).astype(int)"
      ],
      "metadata": {
        "id": "SmuVSLr7i3ZR"
      },
      "execution_count": null,
      "outputs": []
    },
    {
      "cell_type": "code",
      "source": [
        "cols = ['Charitable', 'Political', 'Religious', 'CreditCardUser', 'Gardening', 'OutdoorUser']\n",
        "consumer_df_new_1.replace({'Y':1, 'N':0}, inplace=True)\n",
        "consumer_df_new_1.dtypes\n"
      ],
      "metadata": {
        "colab": {
          "base_uri": "https://localhost:8080/"
        },
        "id": "syAxqrIVlSyB",
        "outputId": "d4c8ed1b-0de0-4867-899d-151d6f9f6ecd"
      },
      "execution_count": null,
      "outputs": [
        {
          "output_type": "execute_result",
          "data": {
            "text/plain": [
              "Zipcode                 int64\n",
              "OwnerRenter             int64\n",
              "Charitable              int64\n",
              "Health                  int64\n",
              "Political               int64\n",
              "Religious               int64\n",
              "Veteran                 int64\n",
              "MaritalStatus          object\n",
              "SingleParent            int64\n",
              "NumberOfChildren      float64\n",
              "HouseholdSize         float64\n",
              "NetWorth              float64\n",
              "SelfImprovement         int64\n",
              "MusicCollector          int64\n",
              "MovieCollector          int64\n",
              "Photography             int64\n",
              "AutoWork                int64\n",
              "Fishing                 int64\n",
              "CampingHiking           int64\n",
              "HuntingShooting         int64\n",
              "Gardening               int64\n",
              "HomeImprovement         int64\n",
              "HomeImprovementDIY      int64\n",
              "OutdoorsGrouping        int64\n",
              "TVCable                 int64\n",
              "dtype: object"
            ]
          },
          "metadata": {},
          "execution_count": 17
        }
      ]
    },
    {
      "cell_type": "code",
      "source": [
        "consumer_df_new_1['Zipcode'] = consumer_df_new_1['Zipcode'].astype(str)"
      ],
      "metadata": {
        "id": "NQAW8bd3lWtL"
      },
      "execution_count": null,
      "outputs": []
    },
    {
      "cell_type": "code",
      "source": [
        "consumer_df_new_1['MaritalStatus'] = consumer_df_new_1['MaritalStatus'].apply(lambda x:1 if x == 'M' else 0).astype(int)"
      ],
      "metadata": {
        "id": "tnLyoEj-l8l5"
      },
      "execution_count": null,
      "outputs": []
    },
    {
      "cell_type": "code",
      "source": [
        "consumer_df_new_1.head()"
      ],
      "metadata": {
        "colab": {
          "base_uri": "https://localhost:8080/",
          "height": 280
        },
        "id": "RqixC3-lnIqq",
        "outputId": "7fc54154-29fd-4b50-c1f3-016899ed70f0"
      },
      "execution_count": null,
      "outputs": [
        {
          "output_type": "execute_result",
          "data": {
            "text/plain": [
              "   Zipcode  OwnerRenter  Charitable  Health  Political  Religious  Veteran  \\\n",
              "0    90631            0           1       0          0          1       -1   \n",
              "5    92626            1           1       1          1          0       -1   \n",
              "6    92626            1           1       1          1          1        1   \n",
              "7    92624            1           1       1          1          0       -1   \n",
              "10   92626            1           1       0          0          0       -1   \n",
              "\n",
              "    MaritalStatus  SingleParent  NumberOfChildren  HouseholdSize  NetWorth  \\\n",
              "0               0             1               2.0            5.0       4.0   \n",
              "5               1            -1               1.0            4.0       9.0   \n",
              "6               1            -1               0.0            2.0       9.0   \n",
              "7               1            -1               1.0            3.0       8.0   \n",
              "10              1            -1               0.0            5.0       9.0   \n",
              "\n",
              "    SelfImprovement  MusicCollector  MovieCollector  Photography  AutoWork  \\\n",
              "0                -1              -1              -1           -1        -1   \n",
              "5                -1              -1              -1            1         1   \n",
              "6                -1               1               1            1         1   \n",
              "7                -1              -1              -1           -1        -1   \n",
              "10               -1               1              -1           -1        -1   \n",
              "\n",
              "    Fishing  CampingHiking  HuntingShooting  Gardening  HomeImprovement  \\\n",
              "0        -1              1               -1         -1               -1   \n",
              "5        -1             -1               -1          1                1   \n",
              "6        -1             -1               -1          1                1   \n",
              "7        -1             -1               -1         -1               -1   \n",
              "10        1             -1                1         -1                1   \n",
              "\n",
              "    HomeImprovementDIY  OutdoorsGrouping  TVCable  \n",
              "0                   -1                 1        1  \n",
              "5                    1                 1        1  \n",
              "6                    1                 1        1  \n",
              "7                   -1                -1        1  \n",
              "10                  -1                 1        1  "
            ],
            "text/html": [
              "\n",
              "  <div id=\"df-1ec5c9ce-42c5-48e4-9191-402dae500f79\" class=\"colab-df-container\">\n",
              "    <div>\n",
              "<style scoped>\n",
              "    .dataframe tbody tr th:only-of-type {\n",
              "        vertical-align: middle;\n",
              "    }\n",
              "\n",
              "    .dataframe tbody tr th {\n",
              "        vertical-align: top;\n",
              "    }\n",
              "\n",
              "    .dataframe thead th {\n",
              "        text-align: right;\n",
              "    }\n",
              "</style>\n",
              "<table border=\"1\" class=\"dataframe\">\n",
              "  <thead>\n",
              "    <tr style=\"text-align: right;\">\n",
              "      <th></th>\n",
              "      <th>Zipcode</th>\n",
              "      <th>OwnerRenter</th>\n",
              "      <th>Charitable</th>\n",
              "      <th>Health</th>\n",
              "      <th>Political</th>\n",
              "      <th>Religious</th>\n",
              "      <th>Veteran</th>\n",
              "      <th>MaritalStatus</th>\n",
              "      <th>SingleParent</th>\n",
              "      <th>NumberOfChildren</th>\n",
              "      <th>HouseholdSize</th>\n",
              "      <th>NetWorth</th>\n",
              "      <th>SelfImprovement</th>\n",
              "      <th>MusicCollector</th>\n",
              "      <th>MovieCollector</th>\n",
              "      <th>Photography</th>\n",
              "      <th>AutoWork</th>\n",
              "      <th>Fishing</th>\n",
              "      <th>CampingHiking</th>\n",
              "      <th>HuntingShooting</th>\n",
              "      <th>Gardening</th>\n",
              "      <th>HomeImprovement</th>\n",
              "      <th>HomeImprovementDIY</th>\n",
              "      <th>OutdoorsGrouping</th>\n",
              "      <th>TVCable</th>\n",
              "    </tr>\n",
              "  </thead>\n",
              "  <tbody>\n",
              "    <tr>\n",
              "      <th>0</th>\n",
              "      <td>90631</td>\n",
              "      <td>0</td>\n",
              "      <td>1</td>\n",
              "      <td>0</td>\n",
              "      <td>0</td>\n",
              "      <td>1</td>\n",
              "      <td>-1</td>\n",
              "      <td>0</td>\n",
              "      <td>1</td>\n",
              "      <td>2.0</td>\n",
              "      <td>5.0</td>\n",
              "      <td>4.0</td>\n",
              "      <td>-1</td>\n",
              "      <td>-1</td>\n",
              "      <td>-1</td>\n",
              "      <td>-1</td>\n",
              "      <td>-1</td>\n",
              "      <td>-1</td>\n",
              "      <td>1</td>\n",
              "      <td>-1</td>\n",
              "      <td>-1</td>\n",
              "      <td>-1</td>\n",
              "      <td>-1</td>\n",
              "      <td>1</td>\n",
              "      <td>1</td>\n",
              "    </tr>\n",
              "    <tr>\n",
              "      <th>5</th>\n",
              "      <td>92626</td>\n",
              "      <td>1</td>\n",
              "      <td>1</td>\n",
              "      <td>1</td>\n",
              "      <td>1</td>\n",
              "      <td>0</td>\n",
              "      <td>-1</td>\n",
              "      <td>1</td>\n",
              "      <td>-1</td>\n",
              "      <td>1.0</td>\n",
              "      <td>4.0</td>\n",
              "      <td>9.0</td>\n",
              "      <td>-1</td>\n",
              "      <td>-1</td>\n",
              "      <td>-1</td>\n",
              "      <td>1</td>\n",
              "      <td>1</td>\n",
              "      <td>-1</td>\n",
              "      <td>-1</td>\n",
              "      <td>-1</td>\n",
              "      <td>1</td>\n",
              "      <td>1</td>\n",
              "      <td>1</td>\n",
              "      <td>1</td>\n",
              "      <td>1</td>\n",
              "    </tr>\n",
              "    <tr>\n",
              "      <th>6</th>\n",
              "      <td>92626</td>\n",
              "      <td>1</td>\n",
              "      <td>1</td>\n",
              "      <td>1</td>\n",
              "      <td>1</td>\n",
              "      <td>1</td>\n",
              "      <td>1</td>\n",
              "      <td>1</td>\n",
              "      <td>-1</td>\n",
              "      <td>0.0</td>\n",
              "      <td>2.0</td>\n",
              "      <td>9.0</td>\n",
              "      <td>-1</td>\n",
              "      <td>1</td>\n",
              "      <td>1</td>\n",
              "      <td>1</td>\n",
              "      <td>1</td>\n",
              "      <td>-1</td>\n",
              "      <td>-1</td>\n",
              "      <td>-1</td>\n",
              "      <td>1</td>\n",
              "      <td>1</td>\n",
              "      <td>1</td>\n",
              "      <td>1</td>\n",
              "      <td>1</td>\n",
              "    </tr>\n",
              "    <tr>\n",
              "      <th>7</th>\n",
              "      <td>92624</td>\n",
              "      <td>1</td>\n",
              "      <td>1</td>\n",
              "      <td>1</td>\n",
              "      <td>1</td>\n",
              "      <td>0</td>\n",
              "      <td>-1</td>\n",
              "      <td>1</td>\n",
              "      <td>-1</td>\n",
              "      <td>1.0</td>\n",
              "      <td>3.0</td>\n",
              "      <td>8.0</td>\n",
              "      <td>-1</td>\n",
              "      <td>-1</td>\n",
              "      <td>-1</td>\n",
              "      <td>-1</td>\n",
              "      <td>-1</td>\n",
              "      <td>-1</td>\n",
              "      <td>-1</td>\n",
              "      <td>-1</td>\n",
              "      <td>-1</td>\n",
              "      <td>-1</td>\n",
              "      <td>-1</td>\n",
              "      <td>-1</td>\n",
              "      <td>1</td>\n",
              "    </tr>\n",
              "    <tr>\n",
              "      <th>10</th>\n",
              "      <td>92626</td>\n",
              "      <td>1</td>\n",
              "      <td>1</td>\n",
              "      <td>0</td>\n",
              "      <td>0</td>\n",
              "      <td>0</td>\n",
              "      <td>-1</td>\n",
              "      <td>1</td>\n",
              "      <td>-1</td>\n",
              "      <td>0.0</td>\n",
              "      <td>5.0</td>\n",
              "      <td>9.0</td>\n",
              "      <td>-1</td>\n",
              "      <td>1</td>\n",
              "      <td>-1</td>\n",
              "      <td>-1</td>\n",
              "      <td>-1</td>\n",
              "      <td>1</td>\n",
              "      <td>-1</td>\n",
              "      <td>1</td>\n",
              "      <td>-1</td>\n",
              "      <td>1</td>\n",
              "      <td>-1</td>\n",
              "      <td>1</td>\n",
              "      <td>1</td>\n",
              "    </tr>\n",
              "  </tbody>\n",
              "</table>\n",
              "</div>\n",
              "    <div class=\"colab-df-buttons\">\n",
              "\n",
              "  <div class=\"colab-df-container\">\n",
              "    <button class=\"colab-df-convert\" onclick=\"convertToInteractive('df-1ec5c9ce-42c5-48e4-9191-402dae500f79')\"\n",
              "            title=\"Convert this dataframe to an interactive table.\"\n",
              "            style=\"display:none;\">\n",
              "\n",
              "  <svg xmlns=\"http://www.w3.org/2000/svg\" height=\"24px\" viewBox=\"0 -960 960 960\">\n",
              "    <path d=\"M120-120v-720h720v720H120Zm60-500h600v-160H180v160Zm220 220h160v-160H400v160Zm0 220h160v-160H400v160ZM180-400h160v-160H180v160Zm440 0h160v-160H620v160ZM180-180h160v-160H180v160Zm440 0h160v-160H620v160Z\"/>\n",
              "  </svg>\n",
              "    </button>\n",
              "\n",
              "  <style>\n",
              "    .colab-df-container {\n",
              "      display:flex;\n",
              "      gap: 12px;\n",
              "    }\n",
              "\n",
              "    .colab-df-convert {\n",
              "      background-color: #E8F0FE;\n",
              "      border: none;\n",
              "      border-radius: 50%;\n",
              "      cursor: pointer;\n",
              "      display: none;\n",
              "      fill: #1967D2;\n",
              "      height: 32px;\n",
              "      padding: 0 0 0 0;\n",
              "      width: 32px;\n",
              "    }\n",
              "\n",
              "    .colab-df-convert:hover {\n",
              "      background-color: #E2EBFA;\n",
              "      box-shadow: 0px 1px 2px rgba(60, 64, 67, 0.3), 0px 1px 3px 1px rgba(60, 64, 67, 0.15);\n",
              "      fill: #174EA6;\n",
              "    }\n",
              "\n",
              "    .colab-df-buttons div {\n",
              "      margin-bottom: 4px;\n",
              "    }\n",
              "\n",
              "    [theme=dark] .colab-df-convert {\n",
              "      background-color: #3B4455;\n",
              "      fill: #D2E3FC;\n",
              "    }\n",
              "\n",
              "    [theme=dark] .colab-df-convert:hover {\n",
              "      background-color: #434B5C;\n",
              "      box-shadow: 0px 1px 3px 1px rgba(0, 0, 0, 0.15);\n",
              "      filter: drop-shadow(0px 1px 2px rgba(0, 0, 0, 0.3));\n",
              "      fill: #FFFFFF;\n",
              "    }\n",
              "  </style>\n",
              "\n",
              "    <script>\n",
              "      const buttonEl =\n",
              "        document.querySelector('#df-1ec5c9ce-42c5-48e4-9191-402dae500f79 button.colab-df-convert');\n",
              "      buttonEl.style.display =\n",
              "        google.colab.kernel.accessAllowed ? 'block' : 'none';\n",
              "\n",
              "      async function convertToInteractive(key) {\n",
              "        const element = document.querySelector('#df-1ec5c9ce-42c5-48e4-9191-402dae500f79');\n",
              "        const dataTable =\n",
              "          await google.colab.kernel.invokeFunction('convertToInteractive',\n",
              "                                                    [key], {});\n",
              "        if (!dataTable) return;\n",
              "\n",
              "        const docLinkHtml = 'Like what you see? Visit the ' +\n",
              "          '<a target=\"_blank\" href=https://colab.research.google.com/notebooks/data_table.ipynb>data table notebook</a>'\n",
              "          + ' to learn more about interactive tables.';\n",
              "        element.innerHTML = '';\n",
              "        dataTable['output_type'] = 'display_data';\n",
              "        await google.colab.output.renderOutput(dataTable, element);\n",
              "        const docLink = document.createElement('div');\n",
              "        docLink.innerHTML = docLinkHtml;\n",
              "        element.appendChild(docLink);\n",
              "      }\n",
              "    </script>\n",
              "  </div>\n",
              "\n",
              "\n",
              "<div id=\"df-85522028-21e7-4f64-8c03-de917f3ae39a\">\n",
              "  <button class=\"colab-df-quickchart\" onclick=\"quickchart('df-85522028-21e7-4f64-8c03-de917f3ae39a')\"\n",
              "            title=\"Suggest charts\"\n",
              "            style=\"display:none;\">\n",
              "\n",
              "<svg xmlns=\"http://www.w3.org/2000/svg\" height=\"24px\"viewBox=\"0 0 24 24\"\n",
              "     width=\"24px\">\n",
              "    <g>\n",
              "        <path d=\"M19 3H5c-1.1 0-2 .9-2 2v14c0 1.1.9 2 2 2h14c1.1 0 2-.9 2-2V5c0-1.1-.9-2-2-2zM9 17H7v-7h2v7zm4 0h-2V7h2v10zm4 0h-2v-4h2v4z\"/>\n",
              "    </g>\n",
              "</svg>\n",
              "  </button>\n",
              "\n",
              "<style>\n",
              "  .colab-df-quickchart {\n",
              "      --bg-color: #E8F0FE;\n",
              "      --fill-color: #1967D2;\n",
              "      --hover-bg-color: #E2EBFA;\n",
              "      --hover-fill-color: #174EA6;\n",
              "      --disabled-fill-color: #AAA;\n",
              "      --disabled-bg-color: #DDD;\n",
              "  }\n",
              "\n",
              "  [theme=dark] .colab-df-quickchart {\n",
              "      --bg-color: #3B4455;\n",
              "      --fill-color: #D2E3FC;\n",
              "      --hover-bg-color: #434B5C;\n",
              "      --hover-fill-color: #FFFFFF;\n",
              "      --disabled-bg-color: #3B4455;\n",
              "      --disabled-fill-color: #666;\n",
              "  }\n",
              "\n",
              "  .colab-df-quickchart {\n",
              "    background-color: var(--bg-color);\n",
              "    border: none;\n",
              "    border-radius: 50%;\n",
              "    cursor: pointer;\n",
              "    display: none;\n",
              "    fill: var(--fill-color);\n",
              "    height: 32px;\n",
              "    padding: 0;\n",
              "    width: 32px;\n",
              "  }\n",
              "\n",
              "  .colab-df-quickchart:hover {\n",
              "    background-color: var(--hover-bg-color);\n",
              "    box-shadow: 0 1px 2px rgba(60, 64, 67, 0.3), 0 1px 3px 1px rgba(60, 64, 67, 0.15);\n",
              "    fill: var(--button-hover-fill-color);\n",
              "  }\n",
              "\n",
              "  .colab-df-quickchart-complete:disabled,\n",
              "  .colab-df-quickchart-complete:disabled:hover {\n",
              "    background-color: var(--disabled-bg-color);\n",
              "    fill: var(--disabled-fill-color);\n",
              "    box-shadow: none;\n",
              "  }\n",
              "\n",
              "  .colab-df-spinner {\n",
              "    border: 2px solid var(--fill-color);\n",
              "    border-color: transparent;\n",
              "    border-bottom-color: var(--fill-color);\n",
              "    animation:\n",
              "      spin 1s steps(1) infinite;\n",
              "  }\n",
              "\n",
              "  @keyframes spin {\n",
              "    0% {\n",
              "      border-color: transparent;\n",
              "      border-bottom-color: var(--fill-color);\n",
              "      border-left-color: var(--fill-color);\n",
              "    }\n",
              "    20% {\n",
              "      border-color: transparent;\n",
              "      border-left-color: var(--fill-color);\n",
              "      border-top-color: var(--fill-color);\n",
              "    }\n",
              "    30% {\n",
              "      border-color: transparent;\n",
              "      border-left-color: var(--fill-color);\n",
              "      border-top-color: var(--fill-color);\n",
              "      border-right-color: var(--fill-color);\n",
              "    }\n",
              "    40% {\n",
              "      border-color: transparent;\n",
              "      border-right-color: var(--fill-color);\n",
              "      border-top-color: var(--fill-color);\n",
              "    }\n",
              "    60% {\n",
              "      border-color: transparent;\n",
              "      border-right-color: var(--fill-color);\n",
              "    }\n",
              "    80% {\n",
              "      border-color: transparent;\n",
              "      border-right-color: var(--fill-color);\n",
              "      border-bottom-color: var(--fill-color);\n",
              "    }\n",
              "    90% {\n",
              "      border-color: transparent;\n",
              "      border-bottom-color: var(--fill-color);\n",
              "    }\n",
              "  }\n",
              "</style>\n",
              "\n",
              "  <script>\n",
              "    async function quickchart(key) {\n",
              "      const quickchartButtonEl =\n",
              "        document.querySelector('#' + key + ' button');\n",
              "      quickchartButtonEl.disabled = true;  // To prevent multiple clicks.\n",
              "      quickchartButtonEl.classList.add('colab-df-spinner');\n",
              "      try {\n",
              "        const charts = await google.colab.kernel.invokeFunction(\n",
              "            'suggestCharts', [key], {});\n",
              "      } catch (error) {\n",
              "        console.error('Error during call to suggestCharts:', error);\n",
              "      }\n",
              "      quickchartButtonEl.classList.remove('colab-df-spinner');\n",
              "      quickchartButtonEl.classList.add('colab-df-quickchart-complete');\n",
              "    }\n",
              "    (() => {\n",
              "      let quickchartButtonEl =\n",
              "        document.querySelector('#df-85522028-21e7-4f64-8c03-de917f3ae39a button');\n",
              "      quickchartButtonEl.style.display =\n",
              "        google.colab.kernel.accessAllowed ? 'block' : 'none';\n",
              "    })();\n",
              "  </script>\n",
              "</div>\n",
              "\n",
              "    </div>\n",
              "  </div>\n"
            ],
            "application/vnd.google.colaboratory.intrinsic+json": {
              "type": "dataframe",
              "variable_name": "consumer_df_new_1"
            }
          },
          "metadata": {},
          "execution_count": 20
        }
      ]
    },
    {
      "cell_type": "code",
      "source": [
        "consumer_df_new_1.info()"
      ],
      "metadata": {
        "colab": {
          "base_uri": "https://localhost:8080/"
        },
        "id": "-NcIVykMnOgF",
        "outputId": "d4ff36ca-623f-4be9-abf6-8889596660e7"
      },
      "execution_count": null,
      "outputs": [
        {
          "output_type": "stream",
          "name": "stdout",
          "text": [
            "<class 'pandas.core.frame.DataFrame'>\n",
            "Index: 1182872 entries, 0 to 2089789\n",
            "Data columns (total 25 columns):\n",
            " #   Column              Non-Null Count    Dtype  \n",
            "---  ------              --------------    -----  \n",
            " 0   Zipcode             1182872 non-null  object \n",
            " 1   OwnerRenter         1182872 non-null  int64  \n",
            " 2   Charitable          1182872 non-null  int64  \n",
            " 3   Health              1182872 non-null  int64  \n",
            " 4   Political           1182872 non-null  int64  \n",
            " 5   Religious           1182872 non-null  int64  \n",
            " 6   Veteran             1182872 non-null  int64  \n",
            " 7   MaritalStatus       1182872 non-null  int64  \n",
            " 8   SingleParent        1182872 non-null  int64  \n",
            " 9   NumberOfChildren    1182872 non-null  float64\n",
            " 10  HouseholdSize       1182872 non-null  float64\n",
            " 11  NetWorth            1182872 non-null  float64\n",
            " 12  SelfImprovement     1182872 non-null  int64  \n",
            " 13  MusicCollector      1182872 non-null  int64  \n",
            " 14  MovieCollector      1182872 non-null  int64  \n",
            " 15  Photography         1182872 non-null  int64  \n",
            " 16  AutoWork            1182872 non-null  int64  \n",
            " 17  Fishing             1182872 non-null  int64  \n",
            " 18  CampingHiking       1182872 non-null  int64  \n",
            " 19  HuntingShooting     1182872 non-null  int64  \n",
            " 20  Gardening           1182872 non-null  int64  \n",
            " 21  HomeImprovement     1182872 non-null  int64  \n",
            " 22  HomeImprovementDIY  1182872 non-null  int64  \n",
            " 23  OutdoorsGrouping    1182872 non-null  int64  \n",
            " 24  TVCable             1182872 non-null  int64  \n",
            "dtypes: float64(3), int64(21), object(1)\n",
            "memory usage: 234.6+ MB\n"
          ]
        }
      ]
    },
    {
      "cell_type": "code",
      "source": [
        "'''\n",
        "zip_df_new = zip_df.drop(columns = ['PerCapitaIncome', 'MedianHouseholdIncome', 'MedianHomeValue', 'MedianAge', 'MedianAgeMale', 'MedianAgeFemale', 'ResidentialDeliveries', 'ResidentialPOBoxes', 'BusinessDeliveries', 'TotalPopulation', 'BusinessPOBoxes', 'LastLineIndicator', 'RecordID', 'City', 'County', 'State', 'Latitude', 'Longitude', 'DominantAreaCode'])\n",
        "zip_df_new = zip_df_new.rename(columns={'ZipCode': 'Zipcode'})\n",
        "zip_df_new['Zipcode'] = zip_df_new['Zipcode'].astype(str)\n",
        "zip_df_new.info()\n",
        "'''"
      ],
      "metadata": {
        "colab": {
          "base_uri": "https://localhost:8080/",
          "height": 86
        },
        "id": "5vNxVPKYts2X",
        "outputId": "253dbfda-b619-45a9-b167-38f9e76d3520"
      },
      "execution_count": null,
      "outputs": [
        {
          "output_type": "execute_result",
          "data": {
            "text/plain": [
              "\"\\nzip_df_new = zip_df.drop(columns = ['PerCapitaIncome', 'MedianHouseholdIncome', 'MedianHomeValue', 'MedianAge', 'MedianAgeMale', 'MedianAgeFemale', 'ResidentialDeliveries', 'ResidentialPOBoxes', 'BusinessDeliveries', 'TotalPopulation', 'BusinessPOBoxes', 'LastLineIndicator', 'RecordID', 'City', 'County', 'State', 'Latitude', 'Longitude', 'DominantAreaCode'])\\nzip_df_new = zip_df_new.rename(columns={'ZipCode': 'Zipcode'})\\nzip_df_new['Zipcode'] = zip_df_new['Zipcode'].astype(str)\\nzip_df_new.info()\\n\""
            ],
            "application/vnd.google.colaboratory.intrinsic+json": {
              "type": "string"
            }
          },
          "metadata": {},
          "execution_count": 22
        }
      ]
    },
    {
      "cell_type": "code",
      "source": [
        "'''\n",
        "consumer_df_new_1['zipcode'] = consumer_df_new_1['Zipcode']\n",
        "\n",
        "consumer_df_new_2 = consumer_df_new_1.set_index('Zipcode')\n",
        "zip_df_new_1 = zip_df_new.set_index('Zipcode')\n",
        "\n",
        "# Perform a left join using the join() method\n",
        "result_df = consumer_df_new_2.join(zip_df_new_1, how='left')\n",
        "result_df.drop_duplicates(inplace = True)\n",
        "result_df.dropna(inplace = True)\n",
        "result_df.info()\n",
        "'''\n",
        "result_df = consumer_df_new_1"
      ],
      "metadata": {
        "id": "iHYJnggTttQF"
      },
      "execution_count": null,
      "outputs": []
    },
    {
      "cell_type": "code",
      "source": [
        "result_df = pd.get_dummies(result_df, columns=['Zipcode'])\n",
        "result_df.info()"
      ],
      "metadata": {
        "colab": {
          "base_uri": "https://localhost:8080/"
        },
        "id": "QRrWXM3jymmK",
        "outputId": "813ba3ef-b049-467f-e62b-badfa4390346"
      },
      "execution_count": null,
      "outputs": [
        {
          "output_type": "stream",
          "name": "stdout",
          "text": [
            "<class 'pandas.core.frame.DataFrame'>\n",
            "Index: 1182872 entries, 0 to 2089789\n",
            "Columns: 163 entries, OwnerRenter to Zipcode_92887\n",
            "dtypes: bool(139), float64(3), int64(21)\n",
            "memory usage: 382.4 MB\n"
          ]
        }
      ]
    },
    {
      "cell_type": "code",
      "source": [],
      "metadata": {
        "id": "BlvVupHCbdxM"
      },
      "execution_count": null,
      "outputs": []
    },
    {
      "cell_type": "code",
      "source": [
        "#result_df.to_csv('melissaData.csv', index=False)"
      ],
      "metadata": {
        "id": "4mVimsG338M1"
      },
      "execution_count": null,
      "outputs": []
    },
    {
      "cell_type": "code",
      "source": [
        "from sklearn.preprocessing import StandardScaler\n",
        "scaler = StandardScaler()\n",
        "X = result_df.drop(columns = 'Health')\n",
        "y = result_df['Health']\n",
        "\n",
        "X = scaler.fit_transform(X)"
      ],
      "metadata": {
        "id": "RNPtk8ztnXfl"
      },
      "execution_count": null,
      "outputs": []
    },
    {
      "cell_type": "code",
      "source": [
        "from sklearn.model_selection import train_test_split\n",
        "\n",
        "X_train, X_test, y_train, y_test = train_test_split(X, y, test_size = 0.25, random_state = 42)"
      ],
      "metadata": {
        "id": "6iISkGd9o67C"
      },
      "execution_count": null,
      "outputs": []
    },
    {
      "cell_type": "code",
      "source": [
        "from sklearn.linear_model import LogisticRegression\n",
        "from sklearn.metrics import accuracy_score\n",
        "\n",
        "model = LogisticRegression()\n",
        "model.fit(X_train, y_train)\n",
        "\n",
        "y_pred = model.predict(X_test)"
      ],
      "metadata": {
        "id": "JeMU3QFFpEYo"
      },
      "execution_count": null,
      "outputs": []
    },
    {
      "cell_type": "code",
      "source": [
        "from sklearn.metrics import confusion_matrix, classification_report\n",
        "\n",
        "print(\"Accuracy {} %\".format( 100 * accuracy_score(y_pred, y_test)))\n"
      ],
      "metadata": {
        "colab": {
          "base_uri": "https://localhost:8080/"
        },
        "id": "yKuPSTj1pIGp",
        "outputId": "19e2fe7a-5f05-4f65-d35a-6537442992b4"
      },
      "execution_count": null,
      "outputs": [
        {
          "output_type": "stream",
          "name": "stdout",
          "text": [
            "Accuracy 77.74332303072522 %\n"
          ]
        }
      ]
    },
    {
      "cell_type": "code",
      "source": [
        "# Testing Set Performance\n",
        "cm = confusion_matrix(y_pred, y_test)\n",
        "sns.heatmap(cm, annot=True)\n"
      ],
      "metadata": {
        "colab": {
          "base_uri": "https://localhost:8080/",
          "height": 458
        },
        "id": "aaFvQIZ-pKkY",
        "outputId": "8761b4b9-cf24-457c-c3cb-4b1345099fc4"
      },
      "execution_count": null,
      "outputs": [
        {
          "output_type": "execute_result",
          "data": {
            "text/plain": [
              "<Axes: >"
            ]
          },
          "metadata": {},
          "execution_count": 30
        },
        {
          "output_type": "display_data",
          "data": {
            "text/plain": [
              "<Figure size 640x480 with 2 Axes>"
            ],
            "image/png": "[encoded data removed]"
          },
          "metadata": {}
        }
      ]
    },
    {
      "cell_type": "code",
      "source": [
        "print(classification_report(y_test, y_pred))"
      ],
      "metadata": {
        "colab": {
          "base_uri": "https://localhost:8080/"
        },
        "id": "Drjbr9sppM1A",
        "outputId": "8f8ccccf-cbc4-4163-b1d5-9240e06c7c6b"
      },
      "execution_count": null,
      "outputs": [
        {
          "output_type": "stream",
          "name": "stdout",
          "text": [
            "              precision    recall  f1-score   support\n",
            "\n",
            "           0       0.80      0.93      0.86    216346\n",
            "           1       0.65      0.37      0.47     79372\n",
            "\n",
            "    accuracy                           0.78    295718\n",
            "   macro avg       0.72      0.65      0.67    295718\n",
            "weighted avg       0.76      0.78      0.76    295718\n",
            "\n"
          ]
        }
      ]
    },
    {
      "cell_type": "code",
      "source": [
        "result_df['Health'].value_counts()"
      ],
      "metadata": {
        "id": "DArWm0bdpPmS",
        "colab": {
          "base_uri": "https://localhost:8080/"
        },
        "outputId": "a12440a2-1fb1-4bf3-c742-1be09a84f049"
      },
      "execution_count": null,
      "outputs": [
        {
          "output_type": "execute_result",
          "data": {
            "text/plain": [
              "Health\n",
              "0    867301\n",
              "1    315571\n",
              "Name: count, dtype: int64"
            ]
          },
          "metadata": {},
          "execution_count": 32
        }
      ]
    },
    {
      "cell_type": "code",
      "source": [
        "import tensorflow as tf\n",
        "\n",
        "model = tf.keras.models.Sequential([\n",
        "    tf.keras.layers.Dense(units=500, activation='relu', input_shape=(162, )),\n",
        "    tf.keras.layers.BatchNormalization(),\n",
        "    tf.keras.layers.Dropout(0.2),\n",
        "    tf.keras.layers.Dense(units=500, activation='relu'),\n",
        "    tf.keras.layers.BatchNormalization(),\n",
        "    tf.keras.layers.Dropout(0.2),\n",
        "    tf.keras.layers.Dense(units=500, activation='relu'),\n",
        "    tf.keras.layers.BatchNormalization(),\n",
        "    tf.keras.layers.Dropout(0.2),\n",
        "    tf.keras.layers.Dense(units=500, activation='relu'),\n",
        "    tf.keras.layers.BatchNormalization(),\n",
        "    tf.keras.layers.Dropout(0.2),\n",
        "    tf.keras.layers.Dense(units=1, activation='sigmoid')\n",
        "])\n",
        "\n",
        "# Using Adam optimizer with default parameters\n",
        "optimizer = tf.keras.optimizers.Adam()\n",
        "\n",
        "model.compile(optimizer=optimizer, loss='binary_crossentropy', metrics=['accuracy'])\n"
      ],
      "metadata": {
        "id": "PvYHkaFbpafz"
      },
      "execution_count": null,
      "outputs": []
    },
    {
      "cell_type": "code",
      "source": [
        "model.summary()"
      ],
      "metadata": {
        "colab": {
          "base_uri": "https://localhost:8080/"
        },
        "id": "LuklzaGTphgv",
        "outputId": "29ee126e-bebf-4d03-e303-c6366e1728b5"
      },
      "execution_count": null,
      "outputs": [
        {
          "output_type": "stream",
          "name": "stdout",
          "text": [
            "Model: \"sequential_1\"\n",
            "_________________________________________________________________\n",
            " Layer (type)                Output Shape              Param #   \n",
            "=================================================================\n",
            " dense_5 (Dense)             (None, 500)               81500     \n",
            "                                                                 \n",
            " batch_normalization_4 (Bat  (None, 500)               2000      \n",
            " chNormalization)                                                \n",
            "                                                                 \n",
            " dropout_4 (Dropout)         (None, 500)               0         \n",
            "                                                                 \n",
            " dense_6 (Dense)             (None, 500)               250500    \n",
            "                                                                 \n",
            " batch_normalization_5 (Bat  (None, 500)               2000      \n",
            " chNormalization)                                                \n",
            "                                                                 \n",
            " dropout_5 (Dropout)         (None, 500)               0         \n",
            "                                                                 \n",
            " dense_7 (Dense)             (None, 500)               250500    \n",
            "                                                                 \n",
            " batch_normalization_6 (Bat  (None, 500)               2000      \n",
            " chNormalization)                                                \n",
            "                                                                 \n",
            " dropout_6 (Dropout)         (None, 500)               0         \n",
            "                                                                 \n",
            " dense_8 (Dense)             (None, 500)               250500    \n",
            "                                                                 \n",
            " batch_normalization_7 (Bat  (None, 500)               2000      \n",
            " chNormalization)                                                \n",
            "                                                                 \n",
            " dropout_7 (Dropout)         (None, 500)               0         \n",
            "                                                                 \n",
            " dense_9 (Dense)             (None, 1)                 501       \n",
            "                                                                 \n",
            "=================================================================\n",
            "Total params: 841501 (3.21 MB)\n",
            "Trainable params: 837501 (3.19 MB)\n",
            "Non-trainable params: 4000 (15.62 KB)\n",
            "_________________________________________________________________\n"
          ]
        }
      ]
    },
    {
      "cell_type": "code",
      "source": [
        "# model.compile(optimizer='SGD', loss='binary_crossentropy', metrics = ['accuracy'])"
      ],
      "metadata": {
        "id": "BJoxTWqVph8c"
      },
      "execution_count": null,
      "outputs": []
    },
    {
      "cell_type": "code",
      "source": [
        "epochs_hist = model.fit(X_train, y_train, epochs = 5, batch_size = 10000)"
      ],
      "metadata": {
        "colab": {
          "base_uri": "https://localhost:8080/"
        },
        "id": "IuwRGAOTpxul",
        "outputId": "4df490fd-09e6-4b4b-ad7d-aef6c22a3b4c"
      },
      "execution_count": null,
      "outputs": [
        {
          "output_type": "stream",
          "name": "stdout",
          "text": [
            "Epoch 1/5\n",
            "89/89 [==============================] - 127s 1s/step - loss: 0.5315 - accuracy: 0.7446\n",
            "Epoch 2/5\n",
            "89/89 [==============================] - 122s 1s/step - loss: 0.4697 - accuracy: 0.7754\n",
            "Epoch 3/5\n",
            "89/89 [==============================] - 117s 1s/step - loss: 0.4647 - accuracy: 0.7771\n",
            "Epoch 4/5\n",
            "89/89 [==============================] - 117s 1s/step - loss: 0.4611 - accuracy: 0.7778\n",
            "Epoch 5/5\n",
            "89/89 [==============================] - 117s 1s/step - loss: 0.4575 - accuracy: 0.7784\n"
          ]
        }
      ]
    },
    {
      "cell_type": "code",
      "source": [
        "y_pred = model.predict(X_test)\n"
      ],
      "metadata": {
        "id": "WOOChuqOpy4u",
        "colab": {
          "base_uri": "https://localhost:8080/"
        },
        "outputId": "f2a63d77-d689-4a91-dfd0-a1ba39d24310"
      },
      "execution_count": null,
      "outputs": [
        {
          "output_type": "stream",
          "name": "stdout",
          "text": [
            "9242/9242 [==============================] - 44s 5ms/step\n"
          ]
        }
      ]
    },
    {
      "cell_type": "code",
      "source": [
        "y_pred = (y_pred > 0.5)"
      ],
      "metadata": {
        "id": "6_PAI-knARsM"
      },
      "execution_count": null,
      "outputs": []
    },
    {
      "cell_type": "code",
      "source": [
        "plt.plot(epochs_hist.history['loss'])\n",
        "plt.title('Model Loss Progress During Training')\n",
        "plt.xlabel('Epoch')\n",
        "plt.ylabel('Training Loss')\n",
        "plt.legend(['Training Loss'])"
      ],
      "metadata": {
        "id": "8q7yOtltp9b3",
        "colab": {
          "base_uri": "https://localhost:8080/",
          "height": 496
        },
        "outputId": "b715454b-56f1-4736-e311-35ea0f465400"
      },
      "execution_count": null,
      "outputs": [
        {
          "output_type": "execute_result",
          "data": {
            "text/plain": [
              "<matplotlib.legend.Legend at 0x78d410dee9e0>"
            ]
          },
          "metadata": {},
          "execution_count": 48
        },
        {
          "output_type": "display_data",
          "data": {
            "text/plain": [
              "<Figure size 640x480 with 1 Axes>"
            ],
            "image/png": "[encoded data removed]"
          },
          "metadata": {}
        }
      ]
    },
    {
      "cell_type": "code",
      "source": [
        "plt.plot(epochs_hist.history['accuracy'])\n",
        "plt.title('Model Accuracy Progress During Training')\n",
        "plt.xlabel('Epoch')\n",
        "plt.ylabel('Training Accuracy')\n",
        "plt.legend(['Training Accuracy'])"
      ],
      "metadata": {
        "id": "yWuGu5nXqGml",
        "colab": {
          "base_uri": "https://localhost:8080/",
          "height": 496
        },
        "outputId": "2f4bc79e-5b76-4e0a-db81-206b94c5b630"
      },
      "execution_count": null,
      "outputs": [
        {
          "output_type": "execute_result",
          "data": {
            "text/plain": [
              "<matplotlib.legend.Legend at 0x78d494d0b3d0>"
            ]
          },
          "metadata": {},
          "execution_count": 49
        },
        {
          "output_type": "display_data",
          "data": {
            "text/plain": [
              "<Figure size 640x480 with 1 Axes>"
            ],
            "image/png": "[encoded data removed]"
          },
          "metadata": {}
        }
      ]
    },
    {
      "cell_type": "code",
      "source": [
        "# Testing Set Performance\n",
        "cm = confusion_matrix(y_test, y_pred)\n",
        "sns.heatmap(cm, annot=True)\n"
      ],
      "metadata": {
        "id": "CEVvbxlRqIF3",
        "colab": {
          "base_uri": "https://localhost:8080/",
          "height": 454
        },
        "outputId": "52fddf01-944c-4e61-a87b-f4d168637c03"
      },
      "execution_count": null,
      "outputs": [
        {
          "output_type": "execute_result",
          "data": {
            "text/plain": [
              "<Axes: >"
            ]
          },
          "metadata": {},
          "execution_count": 50
        },
        {
          "output_type": "display_data",
          "data": {
            "text/plain": [
              "<Figure size 640x480 with 2 Axes>"
            ],
            "image/png": "[encoded data removed]"
          },
          "metadata": {}
        }
      ]
    },
    {
      "cell_type": "code",
      "source": [
        "print(classification_report(y_test, y_pred))"
      ],
      "metadata": {
        "id": "yC6-fn8VqJxM",
        "colab": {
          "base_uri": "https://localhost:8080/"
        },
        "outputId": "6e277762-c045-4008-e76c-4c27d60b6c67"
      },
      "execution_count": null,
      "outputs": [
        {
          "output_type": "stream",
          "name": "stdout",
          "text": [
            "              precision    recall  f1-score   support\n",
            "\n",
            "           0       0.81      0.92      0.86    216346\n",
            "           1       0.64      0.39      0.49     79372\n",
            "\n",
            "    accuracy                           0.78    295718\n",
            "   macro avg       0.72      0.66      0.67    295718\n",
            "weighted avg       0.76      0.78      0.76    295718\n",
            "\n"
          ]
        }
      ]
    },
    {
      "cell_type": "code",
      "source": [
        "# Save the model to a file\n",
        "model.save('model.h5')\n"
      ],
      "metadata": {
        "id": "_VkbWtbFqLJL",
        "colab": {
          "base_uri": "https://localhost:8080/"
        },
        "outputId": "d5bab2e6-83f5-4937-9334-1983a2cf3c0e"
      },
      "execution_count": null,
      "outputs": [
        {
          "output_type": "stream",
          "name": "stderr",
          "text": [
            "/usr/local/lib/python3.10/dist-packages/keras/src/engine/training.py:3103: UserWarning: You are saving your model as an HDF5 file via `model.save()`. This file format is considered legacy. We recommend using instead the native Keras format, e.g. `model.save('my_model.keras')`.\n",
            "  saving_api.save_model(\n"
          ]
        }
      ]
    },
    {
      "cell_type": "code",
      "source": [],
      "metadata": {
        "id": "Z38Zk1moA5Ai"
      },
      "execution_count": null,
      "outputs": []
    }
  ]
}